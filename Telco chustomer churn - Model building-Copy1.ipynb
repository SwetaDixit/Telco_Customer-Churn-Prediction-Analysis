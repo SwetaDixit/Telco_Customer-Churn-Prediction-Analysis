{
 "cells": [
  {
   "cell_type": "code",
   "execution_count": 82,
   "id": "aa7d2ea6",
   "metadata": {},
   "outputs": [],
   "source": [
    "import pandas as pd\n",
    "from sklearn import metrics\n",
    "from sklearn.model_selection import train_test_split\n",
    "from sklearn.metrics import recall_score\n",
    "from sklearn.metrics import classification_report\n",
    "from sklearn.metrics import confusion_matrix\n",
    "from sklearn.tree import DecisionTreeClassifier\n",
    "from sklearn.model_selection import RandomizedSearchCV\n",
    "from sklearn.ensemble import RandomForestClassifier\n",
    "from scipy.stats import randint\n",
    "from imblearn.combine import SMOTEENN\n",
    "\n"
   ]
  },
  {
   "cell_type": "code",
   "execution_count": 83,
   "id": "d41d82de",
   "metadata": {},
   "outputs": [],
   "source": [
    "df = pd.read_csv(\"tel_churn.csv\")"
   ]
  },
  {
   "cell_type": "code",
   "execution_count": 84,
   "id": "867cbfc8",
   "metadata": {},
   "outputs": [
    {
     "data": {
      "text/html": [
       "<div>\n",
       "<style scoped>\n",
       "    .dataframe tbody tr th:only-of-type {\n",
       "        vertical-align: middle;\n",
       "    }\n",
       "\n",
       "    .dataframe tbody tr th {\n",
       "        vertical-align: top;\n",
       "    }\n",
       "\n",
       "    .dataframe thead th {\n",
       "        text-align: right;\n",
       "    }\n",
       "</style>\n",
       "<table border=\"1\" class=\"dataframe\">\n",
       "  <thead>\n",
       "    <tr style=\"text-align: right;\">\n",
       "      <th></th>\n",
       "      <th>Unnamed: 0</th>\n",
       "      <th>MonthlyCharges</th>\n",
       "      <th>TotalCharges</th>\n",
       "      <th>Churn</th>\n",
       "      <th>gender_Female</th>\n",
       "      <th>gender_Male</th>\n",
       "      <th>SeniorCitizen_0</th>\n",
       "      <th>SeniorCitizen_1</th>\n",
       "      <th>Partner_No</th>\n",
       "      <th>Partner_Yes</th>\n",
       "      <th>...</th>\n",
       "      <th>tenure_group_1 - 12</th>\n",
       "      <th>tenure_group_13 - 24</th>\n",
       "      <th>tenure_group_25 - 36</th>\n",
       "      <th>tenure_group_37 - 48</th>\n",
       "      <th>tenure_group_49 - 60</th>\n",
       "      <th>tenure_group_61 - 72</th>\n",
       "      <th>MonthlyCharges_buckets_0-30</th>\n",
       "      <th>MonthlyCharges_buckets_31-60</th>\n",
       "      <th>MonthlyCharges_buckets_61-90</th>\n",
       "      <th>MonthlyCharges_buckets_91-120</th>\n",
       "    </tr>\n",
       "  </thead>\n",
       "  <tbody>\n",
       "    <tr>\n",
       "      <th>0</th>\n",
       "      <td>0</td>\n",
       "      <td>29.85</td>\n",
       "      <td>29.85</td>\n",
       "      <td>0</td>\n",
       "      <td>True</td>\n",
       "      <td>False</td>\n",
       "      <td>True</td>\n",
       "      <td>False</td>\n",
       "      <td>False</td>\n",
       "      <td>True</td>\n",
       "      <td>...</td>\n",
       "      <td>True</td>\n",
       "      <td>False</td>\n",
       "      <td>False</td>\n",
       "      <td>False</td>\n",
       "      <td>False</td>\n",
       "      <td>False</td>\n",
       "      <td>True</td>\n",
       "      <td>False</td>\n",
       "      <td>False</td>\n",
       "      <td>False</td>\n",
       "    </tr>\n",
       "    <tr>\n",
       "      <th>1</th>\n",
       "      <td>1</td>\n",
       "      <td>56.95</td>\n",
       "      <td>1889.50</td>\n",
       "      <td>0</td>\n",
       "      <td>False</td>\n",
       "      <td>True</td>\n",
       "      <td>True</td>\n",
       "      <td>False</td>\n",
       "      <td>True</td>\n",
       "      <td>False</td>\n",
       "      <td>...</td>\n",
       "      <td>False</td>\n",
       "      <td>False</td>\n",
       "      <td>True</td>\n",
       "      <td>False</td>\n",
       "      <td>False</td>\n",
       "      <td>False</td>\n",
       "      <td>False</td>\n",
       "      <td>True</td>\n",
       "      <td>False</td>\n",
       "      <td>False</td>\n",
       "    </tr>\n",
       "    <tr>\n",
       "      <th>2</th>\n",
       "      <td>2</td>\n",
       "      <td>53.85</td>\n",
       "      <td>108.15</td>\n",
       "      <td>1</td>\n",
       "      <td>False</td>\n",
       "      <td>True</td>\n",
       "      <td>True</td>\n",
       "      <td>False</td>\n",
       "      <td>True</td>\n",
       "      <td>False</td>\n",
       "      <td>...</td>\n",
       "      <td>True</td>\n",
       "      <td>False</td>\n",
       "      <td>False</td>\n",
       "      <td>False</td>\n",
       "      <td>False</td>\n",
       "      <td>False</td>\n",
       "      <td>False</td>\n",
       "      <td>True</td>\n",
       "      <td>False</td>\n",
       "      <td>False</td>\n",
       "    </tr>\n",
       "    <tr>\n",
       "      <th>3</th>\n",
       "      <td>3</td>\n",
       "      <td>42.30</td>\n",
       "      <td>1840.75</td>\n",
       "      <td>0</td>\n",
       "      <td>False</td>\n",
       "      <td>True</td>\n",
       "      <td>True</td>\n",
       "      <td>False</td>\n",
       "      <td>True</td>\n",
       "      <td>False</td>\n",
       "      <td>...</td>\n",
       "      <td>False</td>\n",
       "      <td>False</td>\n",
       "      <td>False</td>\n",
       "      <td>True</td>\n",
       "      <td>False</td>\n",
       "      <td>False</td>\n",
       "      <td>False</td>\n",
       "      <td>True</td>\n",
       "      <td>False</td>\n",
       "      <td>False</td>\n",
       "    </tr>\n",
       "    <tr>\n",
       "      <th>4</th>\n",
       "      <td>4</td>\n",
       "      <td>70.70</td>\n",
       "      <td>151.65</td>\n",
       "      <td>1</td>\n",
       "      <td>True</td>\n",
       "      <td>False</td>\n",
       "      <td>True</td>\n",
       "      <td>False</td>\n",
       "      <td>True</td>\n",
       "      <td>False</td>\n",
       "      <td>...</td>\n",
       "      <td>True</td>\n",
       "      <td>False</td>\n",
       "      <td>False</td>\n",
       "      <td>False</td>\n",
       "      <td>False</td>\n",
       "      <td>False</td>\n",
       "      <td>False</td>\n",
       "      <td>False</td>\n",
       "      <td>True</td>\n",
       "      <td>False</td>\n",
       "    </tr>\n",
       "  </tbody>\n",
       "</table>\n",
       "<p>5 rows × 57 columns</p>\n",
       "</div>"
      ],
      "text/plain": [
       "   Unnamed: 0  MonthlyCharges  TotalCharges  Churn  gender_Female  \\\n",
       "0           0           29.85         29.85      0           True   \n",
       "1           1           56.95       1889.50      0          False   \n",
       "2           2           53.85        108.15      1          False   \n",
       "3           3           42.30       1840.75      0          False   \n",
       "4           4           70.70        151.65      1           True   \n",
       "\n",
       "   gender_Male  SeniorCitizen_0  SeniorCitizen_1  Partner_No  Partner_Yes  \\\n",
       "0        False             True            False       False         True   \n",
       "1         True             True            False        True        False   \n",
       "2         True             True            False        True        False   \n",
       "3         True             True            False        True        False   \n",
       "4        False             True            False        True        False   \n",
       "\n",
       "   ...  tenure_group_1 - 12  tenure_group_13 - 24  tenure_group_25 - 36  \\\n",
       "0  ...                 True                 False                 False   \n",
       "1  ...                False                 False                  True   \n",
       "2  ...                 True                 False                 False   \n",
       "3  ...                False                 False                 False   \n",
       "4  ...                 True                 False                 False   \n",
       "\n",
       "   tenure_group_37 - 48  tenure_group_49 - 60  tenure_group_61 - 72  \\\n",
       "0                 False                 False                 False   \n",
       "1                 False                 False                 False   \n",
       "2                 False                 False                 False   \n",
       "3                  True                 False                 False   \n",
       "4                 False                 False                 False   \n",
       "\n",
       "   MonthlyCharges_buckets_0-30  MonthlyCharges_buckets_31-60  \\\n",
       "0                         True                         False   \n",
       "1                        False                          True   \n",
       "2                        False                          True   \n",
       "3                        False                          True   \n",
       "4                        False                         False   \n",
       "\n",
       "   MonthlyCharges_buckets_61-90  MonthlyCharges_buckets_91-120  \n",
       "0                         False                          False  \n",
       "1                         False                          False  \n",
       "2                         False                          False  \n",
       "3                         False                          False  \n",
       "4                          True                          False  \n",
       "\n",
       "[5 rows x 57 columns]"
      ]
     },
     "execution_count": 84,
     "metadata": {},
     "output_type": "execute_result"
    }
   ],
   "source": [
    "df.head()"
   ]
  },
  {
   "cell_type": "code",
   "execution_count": 85,
   "id": "57b2d530",
   "metadata": {},
   "outputs": [
    {
     "data": {
      "text/html": [
       "<div>\n",
       "<style scoped>\n",
       "    .dataframe tbody tr th:only-of-type {\n",
       "        vertical-align: middle;\n",
       "    }\n",
       "\n",
       "    .dataframe tbody tr th {\n",
       "        vertical-align: top;\n",
       "    }\n",
       "\n",
       "    .dataframe thead th {\n",
       "        text-align: right;\n",
       "    }\n",
       "</style>\n",
       "<table border=\"1\" class=\"dataframe\">\n",
       "  <thead>\n",
       "    <tr style=\"text-align: right;\">\n",
       "      <th></th>\n",
       "      <th>Unnamed: 0</th>\n",
       "      <th>MonthlyCharges</th>\n",
       "      <th>TotalCharges</th>\n",
       "      <th>Churn</th>\n",
       "      <th>gender_Female</th>\n",
       "      <th>gender_Male</th>\n",
       "      <th>SeniorCitizen_0</th>\n",
       "      <th>SeniorCitizen_1</th>\n",
       "      <th>Partner_No</th>\n",
       "      <th>Partner_Yes</th>\n",
       "      <th>...</th>\n",
       "      <th>tenure_group_1 - 12</th>\n",
       "      <th>tenure_group_13 - 24</th>\n",
       "      <th>tenure_group_25 - 36</th>\n",
       "      <th>tenure_group_37 - 48</th>\n",
       "      <th>tenure_group_49 - 60</th>\n",
       "      <th>tenure_group_61 - 72</th>\n",
       "      <th>MonthlyCharges_buckets_0-30</th>\n",
       "      <th>MonthlyCharges_buckets_31-60</th>\n",
       "      <th>MonthlyCharges_buckets_61-90</th>\n",
       "      <th>MonthlyCharges_buckets_91-120</th>\n",
       "    </tr>\n",
       "  </thead>\n",
       "  <tbody>\n",
       "    <tr>\n",
       "      <th>0</th>\n",
       "      <td>0</td>\n",
       "      <td>29.85</td>\n",
       "      <td>29.85</td>\n",
       "      <td>0</td>\n",
       "      <td>1</td>\n",
       "      <td>0</td>\n",
       "      <td>1</td>\n",
       "      <td>0</td>\n",
       "      <td>0</td>\n",
       "      <td>1</td>\n",
       "      <td>...</td>\n",
       "      <td>1</td>\n",
       "      <td>0</td>\n",
       "      <td>0</td>\n",
       "      <td>0</td>\n",
       "      <td>0</td>\n",
       "      <td>0</td>\n",
       "      <td>1</td>\n",
       "      <td>0</td>\n",
       "      <td>0</td>\n",
       "      <td>0</td>\n",
       "    </tr>\n",
       "    <tr>\n",
       "      <th>1</th>\n",
       "      <td>1</td>\n",
       "      <td>56.95</td>\n",
       "      <td>1889.50</td>\n",
       "      <td>0</td>\n",
       "      <td>0</td>\n",
       "      <td>1</td>\n",
       "      <td>1</td>\n",
       "      <td>0</td>\n",
       "      <td>1</td>\n",
       "      <td>0</td>\n",
       "      <td>...</td>\n",
       "      <td>0</td>\n",
       "      <td>0</td>\n",
       "      <td>1</td>\n",
       "      <td>0</td>\n",
       "      <td>0</td>\n",
       "      <td>0</td>\n",
       "      <td>0</td>\n",
       "      <td>1</td>\n",
       "      <td>0</td>\n",
       "      <td>0</td>\n",
       "    </tr>\n",
       "    <tr>\n",
       "      <th>2</th>\n",
       "      <td>2</td>\n",
       "      <td>53.85</td>\n",
       "      <td>108.15</td>\n",
       "      <td>1</td>\n",
       "      <td>0</td>\n",
       "      <td>1</td>\n",
       "      <td>1</td>\n",
       "      <td>0</td>\n",
       "      <td>1</td>\n",
       "      <td>0</td>\n",
       "      <td>...</td>\n",
       "      <td>1</td>\n",
       "      <td>0</td>\n",
       "      <td>0</td>\n",
       "      <td>0</td>\n",
       "      <td>0</td>\n",
       "      <td>0</td>\n",
       "      <td>0</td>\n",
       "      <td>1</td>\n",
       "      <td>0</td>\n",
       "      <td>0</td>\n",
       "    </tr>\n",
       "    <tr>\n",
       "      <th>3</th>\n",
       "      <td>3</td>\n",
       "      <td>42.30</td>\n",
       "      <td>1840.75</td>\n",
       "      <td>0</td>\n",
       "      <td>0</td>\n",
       "      <td>1</td>\n",
       "      <td>1</td>\n",
       "      <td>0</td>\n",
       "      <td>1</td>\n",
       "      <td>0</td>\n",
       "      <td>...</td>\n",
       "      <td>0</td>\n",
       "      <td>0</td>\n",
       "      <td>0</td>\n",
       "      <td>1</td>\n",
       "      <td>0</td>\n",
       "      <td>0</td>\n",
       "      <td>0</td>\n",
       "      <td>1</td>\n",
       "      <td>0</td>\n",
       "      <td>0</td>\n",
       "    </tr>\n",
       "    <tr>\n",
       "      <th>4</th>\n",
       "      <td>4</td>\n",
       "      <td>70.70</td>\n",
       "      <td>151.65</td>\n",
       "      <td>1</td>\n",
       "      <td>1</td>\n",
       "      <td>0</td>\n",
       "      <td>1</td>\n",
       "      <td>0</td>\n",
       "      <td>1</td>\n",
       "      <td>0</td>\n",
       "      <td>...</td>\n",
       "      <td>1</td>\n",
       "      <td>0</td>\n",
       "      <td>0</td>\n",
       "      <td>0</td>\n",
       "      <td>0</td>\n",
       "      <td>0</td>\n",
       "      <td>0</td>\n",
       "      <td>0</td>\n",
       "      <td>1</td>\n",
       "      <td>0</td>\n",
       "    </tr>\n",
       "  </tbody>\n",
       "</table>\n",
       "<p>5 rows × 57 columns</p>\n",
       "</div>"
      ],
      "text/plain": [
       "   Unnamed: 0  MonthlyCharges  TotalCharges  Churn  gender_Female  \\\n",
       "0           0           29.85         29.85      0              1   \n",
       "1           1           56.95       1889.50      0              0   \n",
       "2           2           53.85        108.15      1              0   \n",
       "3           3           42.30       1840.75      0              0   \n",
       "4           4           70.70        151.65      1              1   \n",
       "\n",
       "   gender_Male  SeniorCitizen_0  SeniorCitizen_1  Partner_No  Partner_Yes  \\\n",
       "0            0                1                0           0            1   \n",
       "1            1                1                0           1            0   \n",
       "2            1                1                0           1            0   \n",
       "3            1                1                0           1            0   \n",
       "4            0                1                0           1            0   \n",
       "\n",
       "   ...  tenure_group_1 - 12  tenure_group_13 - 24  tenure_group_25 - 36  \\\n",
       "0  ...                    1                     0                     0   \n",
       "1  ...                    0                     0                     1   \n",
       "2  ...                    1                     0                     0   \n",
       "3  ...                    0                     0                     0   \n",
       "4  ...                    1                     0                     0   \n",
       "\n",
       "   tenure_group_37 - 48  tenure_group_49 - 60  tenure_group_61 - 72  \\\n",
       "0                     0                     0                     0   \n",
       "1                     0                     0                     0   \n",
       "2                     0                     0                     0   \n",
       "3                     1                     0                     0   \n",
       "4                     0                     0                     0   \n",
       "\n",
       "   MonthlyCharges_buckets_0-30  MonthlyCharges_buckets_31-60  \\\n",
       "0                            1                             0   \n",
       "1                            0                             1   \n",
       "2                            0                             1   \n",
       "3                            0                             1   \n",
       "4                            0                             0   \n",
       "\n",
       "   MonthlyCharges_buckets_61-90  MonthlyCharges_buckets_91-120  \n",
       "0                             0                              0  \n",
       "1                             0                              0  \n",
       "2                             0                              0  \n",
       "3                             0                              0  \n",
       "4                             1                              0  \n",
       "\n",
       "[5 rows x 57 columns]"
      ]
     },
     "execution_count": 85,
     "metadata": {},
     "output_type": "execute_result"
    }
   ],
   "source": [
    "df = df.replace({True: 1, False: 0})\n",
    "# Display the updated DataFrame\n",
    "df.head()"
   ]
  },
  {
   "cell_type": "code",
   "execution_count": 86,
   "id": "bff33a9d",
   "metadata": {},
   "outputs": [],
   "source": [
    "df=df.drop('Unnamed: 0',axis=1)"
   ]
  },
  {
   "cell_type": "code",
   "execution_count": 87,
   "id": "31de9c10",
   "metadata": {},
   "outputs": [
    {
     "data": {
      "text/html": [
       "<div>\n",
       "<style scoped>\n",
       "    .dataframe tbody tr th:only-of-type {\n",
       "        vertical-align: middle;\n",
       "    }\n",
       "\n",
       "    .dataframe tbody tr th {\n",
       "        vertical-align: top;\n",
       "    }\n",
       "\n",
       "    .dataframe thead th {\n",
       "        text-align: right;\n",
       "    }\n",
       "</style>\n",
       "<table border=\"1\" class=\"dataframe\">\n",
       "  <thead>\n",
       "    <tr style=\"text-align: right;\">\n",
       "      <th></th>\n",
       "      <th>MonthlyCharges</th>\n",
       "      <th>TotalCharges</th>\n",
       "      <th>Churn</th>\n",
       "      <th>gender_Female</th>\n",
       "      <th>gender_Male</th>\n",
       "      <th>SeniorCitizen_0</th>\n",
       "      <th>SeniorCitizen_1</th>\n",
       "      <th>Partner_No</th>\n",
       "      <th>Partner_Yes</th>\n",
       "      <th>Dependents_No</th>\n",
       "      <th>...</th>\n",
       "      <th>tenure_group_1 - 12</th>\n",
       "      <th>tenure_group_13 - 24</th>\n",
       "      <th>tenure_group_25 - 36</th>\n",
       "      <th>tenure_group_37 - 48</th>\n",
       "      <th>tenure_group_49 - 60</th>\n",
       "      <th>tenure_group_61 - 72</th>\n",
       "      <th>MonthlyCharges_buckets_0-30</th>\n",
       "      <th>MonthlyCharges_buckets_31-60</th>\n",
       "      <th>MonthlyCharges_buckets_61-90</th>\n",
       "      <th>MonthlyCharges_buckets_91-120</th>\n",
       "    </tr>\n",
       "  </thead>\n",
       "  <tbody>\n",
       "    <tr>\n",
       "      <th>0</th>\n",
       "      <td>29.85</td>\n",
       "      <td>29.85</td>\n",
       "      <td>0</td>\n",
       "      <td>1</td>\n",
       "      <td>0</td>\n",
       "      <td>1</td>\n",
       "      <td>0</td>\n",
       "      <td>0</td>\n",
       "      <td>1</td>\n",
       "      <td>1</td>\n",
       "      <td>...</td>\n",
       "      <td>1</td>\n",
       "      <td>0</td>\n",
       "      <td>0</td>\n",
       "      <td>0</td>\n",
       "      <td>0</td>\n",
       "      <td>0</td>\n",
       "      <td>1</td>\n",
       "      <td>0</td>\n",
       "      <td>0</td>\n",
       "      <td>0</td>\n",
       "    </tr>\n",
       "    <tr>\n",
       "      <th>1</th>\n",
       "      <td>56.95</td>\n",
       "      <td>1889.50</td>\n",
       "      <td>0</td>\n",
       "      <td>0</td>\n",
       "      <td>1</td>\n",
       "      <td>1</td>\n",
       "      <td>0</td>\n",
       "      <td>1</td>\n",
       "      <td>0</td>\n",
       "      <td>1</td>\n",
       "      <td>...</td>\n",
       "      <td>0</td>\n",
       "      <td>0</td>\n",
       "      <td>1</td>\n",
       "      <td>0</td>\n",
       "      <td>0</td>\n",
       "      <td>0</td>\n",
       "      <td>0</td>\n",
       "      <td>1</td>\n",
       "      <td>0</td>\n",
       "      <td>0</td>\n",
       "    </tr>\n",
       "    <tr>\n",
       "      <th>2</th>\n",
       "      <td>53.85</td>\n",
       "      <td>108.15</td>\n",
       "      <td>1</td>\n",
       "      <td>0</td>\n",
       "      <td>1</td>\n",
       "      <td>1</td>\n",
       "      <td>0</td>\n",
       "      <td>1</td>\n",
       "      <td>0</td>\n",
       "      <td>1</td>\n",
       "      <td>...</td>\n",
       "      <td>1</td>\n",
       "      <td>0</td>\n",
       "      <td>0</td>\n",
       "      <td>0</td>\n",
       "      <td>0</td>\n",
       "      <td>0</td>\n",
       "      <td>0</td>\n",
       "      <td>1</td>\n",
       "      <td>0</td>\n",
       "      <td>0</td>\n",
       "    </tr>\n",
       "    <tr>\n",
       "      <th>3</th>\n",
       "      <td>42.30</td>\n",
       "      <td>1840.75</td>\n",
       "      <td>0</td>\n",
       "      <td>0</td>\n",
       "      <td>1</td>\n",
       "      <td>1</td>\n",
       "      <td>0</td>\n",
       "      <td>1</td>\n",
       "      <td>0</td>\n",
       "      <td>1</td>\n",
       "      <td>...</td>\n",
       "      <td>0</td>\n",
       "      <td>0</td>\n",
       "      <td>0</td>\n",
       "      <td>1</td>\n",
       "      <td>0</td>\n",
       "      <td>0</td>\n",
       "      <td>0</td>\n",
       "      <td>1</td>\n",
       "      <td>0</td>\n",
       "      <td>0</td>\n",
       "    </tr>\n",
       "    <tr>\n",
       "      <th>4</th>\n",
       "      <td>70.70</td>\n",
       "      <td>151.65</td>\n",
       "      <td>1</td>\n",
       "      <td>1</td>\n",
       "      <td>0</td>\n",
       "      <td>1</td>\n",
       "      <td>0</td>\n",
       "      <td>1</td>\n",
       "      <td>0</td>\n",
       "      <td>1</td>\n",
       "      <td>...</td>\n",
       "      <td>1</td>\n",
       "      <td>0</td>\n",
       "      <td>0</td>\n",
       "      <td>0</td>\n",
       "      <td>0</td>\n",
       "      <td>0</td>\n",
       "      <td>0</td>\n",
       "      <td>0</td>\n",
       "      <td>1</td>\n",
       "      <td>0</td>\n",
       "    </tr>\n",
       "  </tbody>\n",
       "</table>\n",
       "<p>5 rows × 56 columns</p>\n",
       "</div>"
      ],
      "text/plain": [
       "   MonthlyCharges  TotalCharges  Churn  gender_Female  gender_Male  \\\n",
       "0           29.85         29.85      0              1            0   \n",
       "1           56.95       1889.50      0              0            1   \n",
       "2           53.85        108.15      1              0            1   \n",
       "3           42.30       1840.75      0              0            1   \n",
       "4           70.70        151.65      1              1            0   \n",
       "\n",
       "   SeniorCitizen_0  SeniorCitizen_1  Partner_No  Partner_Yes  Dependents_No  \\\n",
       "0                1                0           0            1              1   \n",
       "1                1                0           1            0              1   \n",
       "2                1                0           1            0              1   \n",
       "3                1                0           1            0              1   \n",
       "4                1                0           1            0              1   \n",
       "\n",
       "   ...  tenure_group_1 - 12  tenure_group_13 - 24  tenure_group_25 - 36  \\\n",
       "0  ...                    1                     0                     0   \n",
       "1  ...                    0                     0                     1   \n",
       "2  ...                    1                     0                     0   \n",
       "3  ...                    0                     0                     0   \n",
       "4  ...                    1                     0                     0   \n",
       "\n",
       "   tenure_group_37 - 48  tenure_group_49 - 60  tenure_group_61 - 72  \\\n",
       "0                     0                     0                     0   \n",
       "1                     0                     0                     0   \n",
       "2                     0                     0                     0   \n",
       "3                     1                     0                     0   \n",
       "4                     0                     0                     0   \n",
       "\n",
       "   MonthlyCharges_buckets_0-30  MonthlyCharges_buckets_31-60  \\\n",
       "0                            1                             0   \n",
       "1                            0                             1   \n",
       "2                            0                             1   \n",
       "3                            0                             1   \n",
       "4                            0                             0   \n",
       "\n",
       "   MonthlyCharges_buckets_61-90  MonthlyCharges_buckets_91-120  \n",
       "0                             0                              0  \n",
       "1                             0                              0  \n",
       "2                             0                              0  \n",
       "3                             0                              0  \n",
       "4                             1                              0  \n",
       "\n",
       "[5 rows x 56 columns]"
      ]
     },
     "execution_count": 87,
     "metadata": {},
     "output_type": "execute_result"
    }
   ],
   "source": [
    "df.head()"
   ]
  },
  {
   "cell_type": "code",
   "execution_count": 88,
   "id": "a68b55c7",
   "metadata": {},
   "outputs": [
    {
     "data": {
      "text/html": [
       "<div>\n",
       "<style scoped>\n",
       "    .dataframe tbody tr th:only-of-type {\n",
       "        vertical-align: middle;\n",
       "    }\n",
       "\n",
       "    .dataframe tbody tr th {\n",
       "        vertical-align: top;\n",
       "    }\n",
       "\n",
       "    .dataframe thead th {\n",
       "        text-align: right;\n",
       "    }\n",
       "</style>\n",
       "<table border=\"1\" class=\"dataframe\">\n",
       "  <thead>\n",
       "    <tr style=\"text-align: right;\">\n",
       "      <th></th>\n",
       "      <th>MonthlyCharges</th>\n",
       "      <th>TotalCharges</th>\n",
       "      <th>gender_Female</th>\n",
       "      <th>gender_Male</th>\n",
       "      <th>SeniorCitizen_0</th>\n",
       "      <th>SeniorCitizen_1</th>\n",
       "      <th>Partner_No</th>\n",
       "      <th>Partner_Yes</th>\n",
       "      <th>Dependents_No</th>\n",
       "      <th>Dependents_Yes</th>\n",
       "      <th>...</th>\n",
       "      <th>tenure_group_1 - 12</th>\n",
       "      <th>tenure_group_13 - 24</th>\n",
       "      <th>tenure_group_25 - 36</th>\n",
       "      <th>tenure_group_37 - 48</th>\n",
       "      <th>tenure_group_49 - 60</th>\n",
       "      <th>tenure_group_61 - 72</th>\n",
       "      <th>MonthlyCharges_buckets_0-30</th>\n",
       "      <th>MonthlyCharges_buckets_31-60</th>\n",
       "      <th>MonthlyCharges_buckets_61-90</th>\n",
       "      <th>MonthlyCharges_buckets_91-120</th>\n",
       "    </tr>\n",
       "  </thead>\n",
       "  <tbody>\n",
       "    <tr>\n",
       "      <th>0</th>\n",
       "      <td>29.85</td>\n",
       "      <td>29.85</td>\n",
       "      <td>1</td>\n",
       "      <td>0</td>\n",
       "      <td>1</td>\n",
       "      <td>0</td>\n",
       "      <td>0</td>\n",
       "      <td>1</td>\n",
       "      <td>1</td>\n",
       "      <td>0</td>\n",
       "      <td>...</td>\n",
       "      <td>1</td>\n",
       "      <td>0</td>\n",
       "      <td>0</td>\n",
       "      <td>0</td>\n",
       "      <td>0</td>\n",
       "      <td>0</td>\n",
       "      <td>1</td>\n",
       "      <td>0</td>\n",
       "      <td>0</td>\n",
       "      <td>0</td>\n",
       "    </tr>\n",
       "    <tr>\n",
       "      <th>1</th>\n",
       "      <td>56.95</td>\n",
       "      <td>1889.50</td>\n",
       "      <td>0</td>\n",
       "      <td>1</td>\n",
       "      <td>1</td>\n",
       "      <td>0</td>\n",
       "      <td>1</td>\n",
       "      <td>0</td>\n",
       "      <td>1</td>\n",
       "      <td>0</td>\n",
       "      <td>...</td>\n",
       "      <td>0</td>\n",
       "      <td>0</td>\n",
       "      <td>1</td>\n",
       "      <td>0</td>\n",
       "      <td>0</td>\n",
       "      <td>0</td>\n",
       "      <td>0</td>\n",
       "      <td>1</td>\n",
       "      <td>0</td>\n",
       "      <td>0</td>\n",
       "    </tr>\n",
       "    <tr>\n",
       "      <th>2</th>\n",
       "      <td>53.85</td>\n",
       "      <td>108.15</td>\n",
       "      <td>0</td>\n",
       "      <td>1</td>\n",
       "      <td>1</td>\n",
       "      <td>0</td>\n",
       "      <td>1</td>\n",
       "      <td>0</td>\n",
       "      <td>1</td>\n",
       "      <td>0</td>\n",
       "      <td>...</td>\n",
       "      <td>1</td>\n",
       "      <td>0</td>\n",
       "      <td>0</td>\n",
       "      <td>0</td>\n",
       "      <td>0</td>\n",
       "      <td>0</td>\n",
       "      <td>0</td>\n",
       "      <td>1</td>\n",
       "      <td>0</td>\n",
       "      <td>0</td>\n",
       "    </tr>\n",
       "    <tr>\n",
       "      <th>3</th>\n",
       "      <td>42.30</td>\n",
       "      <td>1840.75</td>\n",
       "      <td>0</td>\n",
       "      <td>1</td>\n",
       "      <td>1</td>\n",
       "      <td>0</td>\n",
       "      <td>1</td>\n",
       "      <td>0</td>\n",
       "      <td>1</td>\n",
       "      <td>0</td>\n",
       "      <td>...</td>\n",
       "      <td>0</td>\n",
       "      <td>0</td>\n",
       "      <td>0</td>\n",
       "      <td>1</td>\n",
       "      <td>0</td>\n",
       "      <td>0</td>\n",
       "      <td>0</td>\n",
       "      <td>1</td>\n",
       "      <td>0</td>\n",
       "      <td>0</td>\n",
       "    </tr>\n",
       "    <tr>\n",
       "      <th>4</th>\n",
       "      <td>70.70</td>\n",
       "      <td>151.65</td>\n",
       "      <td>1</td>\n",
       "      <td>0</td>\n",
       "      <td>1</td>\n",
       "      <td>0</td>\n",
       "      <td>1</td>\n",
       "      <td>0</td>\n",
       "      <td>1</td>\n",
       "      <td>0</td>\n",
       "      <td>...</td>\n",
       "      <td>1</td>\n",
       "      <td>0</td>\n",
       "      <td>0</td>\n",
       "      <td>0</td>\n",
       "      <td>0</td>\n",
       "      <td>0</td>\n",
       "      <td>0</td>\n",
       "      <td>0</td>\n",
       "      <td>1</td>\n",
       "      <td>0</td>\n",
       "    </tr>\n",
       "    <tr>\n",
       "      <th>...</th>\n",
       "      <td>...</td>\n",
       "      <td>...</td>\n",
       "      <td>...</td>\n",
       "      <td>...</td>\n",
       "      <td>...</td>\n",
       "      <td>...</td>\n",
       "      <td>...</td>\n",
       "      <td>...</td>\n",
       "      <td>...</td>\n",
       "      <td>...</td>\n",
       "      <td>...</td>\n",
       "      <td>...</td>\n",
       "      <td>...</td>\n",
       "      <td>...</td>\n",
       "      <td>...</td>\n",
       "      <td>...</td>\n",
       "      <td>...</td>\n",
       "      <td>...</td>\n",
       "      <td>...</td>\n",
       "      <td>...</td>\n",
       "      <td>...</td>\n",
       "    </tr>\n",
       "    <tr>\n",
       "      <th>7027</th>\n",
       "      <td>84.80</td>\n",
       "      <td>1990.50</td>\n",
       "      <td>0</td>\n",
       "      <td>1</td>\n",
       "      <td>1</td>\n",
       "      <td>0</td>\n",
       "      <td>0</td>\n",
       "      <td>1</td>\n",
       "      <td>0</td>\n",
       "      <td>1</td>\n",
       "      <td>...</td>\n",
       "      <td>0</td>\n",
       "      <td>1</td>\n",
       "      <td>0</td>\n",
       "      <td>0</td>\n",
       "      <td>0</td>\n",
       "      <td>0</td>\n",
       "      <td>0</td>\n",
       "      <td>0</td>\n",
       "      <td>1</td>\n",
       "      <td>0</td>\n",
       "    </tr>\n",
       "    <tr>\n",
       "      <th>7028</th>\n",
       "      <td>103.20</td>\n",
       "      <td>7362.90</td>\n",
       "      <td>1</td>\n",
       "      <td>0</td>\n",
       "      <td>1</td>\n",
       "      <td>0</td>\n",
       "      <td>0</td>\n",
       "      <td>1</td>\n",
       "      <td>0</td>\n",
       "      <td>1</td>\n",
       "      <td>...</td>\n",
       "      <td>0</td>\n",
       "      <td>0</td>\n",
       "      <td>0</td>\n",
       "      <td>0</td>\n",
       "      <td>0</td>\n",
       "      <td>1</td>\n",
       "      <td>0</td>\n",
       "      <td>0</td>\n",
       "      <td>0</td>\n",
       "      <td>1</td>\n",
       "    </tr>\n",
       "    <tr>\n",
       "      <th>7029</th>\n",
       "      <td>29.60</td>\n",
       "      <td>346.45</td>\n",
       "      <td>1</td>\n",
       "      <td>0</td>\n",
       "      <td>1</td>\n",
       "      <td>0</td>\n",
       "      <td>0</td>\n",
       "      <td>1</td>\n",
       "      <td>0</td>\n",
       "      <td>1</td>\n",
       "      <td>...</td>\n",
       "      <td>1</td>\n",
       "      <td>0</td>\n",
       "      <td>0</td>\n",
       "      <td>0</td>\n",
       "      <td>0</td>\n",
       "      <td>0</td>\n",
       "      <td>1</td>\n",
       "      <td>0</td>\n",
       "      <td>0</td>\n",
       "      <td>0</td>\n",
       "    </tr>\n",
       "    <tr>\n",
       "      <th>7030</th>\n",
       "      <td>74.40</td>\n",
       "      <td>306.60</td>\n",
       "      <td>0</td>\n",
       "      <td>1</td>\n",
       "      <td>0</td>\n",
       "      <td>1</td>\n",
       "      <td>0</td>\n",
       "      <td>1</td>\n",
       "      <td>1</td>\n",
       "      <td>0</td>\n",
       "      <td>...</td>\n",
       "      <td>1</td>\n",
       "      <td>0</td>\n",
       "      <td>0</td>\n",
       "      <td>0</td>\n",
       "      <td>0</td>\n",
       "      <td>0</td>\n",
       "      <td>0</td>\n",
       "      <td>0</td>\n",
       "      <td>1</td>\n",
       "      <td>0</td>\n",
       "    </tr>\n",
       "    <tr>\n",
       "      <th>7031</th>\n",
       "      <td>105.65</td>\n",
       "      <td>6844.50</td>\n",
       "      <td>0</td>\n",
       "      <td>1</td>\n",
       "      <td>1</td>\n",
       "      <td>0</td>\n",
       "      <td>1</td>\n",
       "      <td>0</td>\n",
       "      <td>1</td>\n",
       "      <td>0</td>\n",
       "      <td>...</td>\n",
       "      <td>0</td>\n",
       "      <td>0</td>\n",
       "      <td>0</td>\n",
       "      <td>0</td>\n",
       "      <td>0</td>\n",
       "      <td>1</td>\n",
       "      <td>0</td>\n",
       "      <td>0</td>\n",
       "      <td>0</td>\n",
       "      <td>1</td>\n",
       "    </tr>\n",
       "  </tbody>\n",
       "</table>\n",
       "<p>7032 rows × 55 columns</p>\n",
       "</div>"
      ],
      "text/plain": [
       "      MonthlyCharges  TotalCharges  gender_Female  gender_Male  \\\n",
       "0              29.85         29.85              1            0   \n",
       "1              56.95       1889.50              0            1   \n",
       "2              53.85        108.15              0            1   \n",
       "3              42.30       1840.75              0            1   \n",
       "4              70.70        151.65              1            0   \n",
       "...              ...           ...            ...          ...   \n",
       "7027           84.80       1990.50              0            1   \n",
       "7028          103.20       7362.90              1            0   \n",
       "7029           29.60        346.45              1            0   \n",
       "7030           74.40        306.60              0            1   \n",
       "7031          105.65       6844.50              0            1   \n",
       "\n",
       "      SeniorCitizen_0  SeniorCitizen_1  Partner_No  Partner_Yes  \\\n",
       "0                   1                0           0            1   \n",
       "1                   1                0           1            0   \n",
       "2                   1                0           1            0   \n",
       "3                   1                0           1            0   \n",
       "4                   1                0           1            0   \n",
       "...               ...              ...         ...          ...   \n",
       "7027                1                0           0            1   \n",
       "7028                1                0           0            1   \n",
       "7029                1                0           0            1   \n",
       "7030                0                1           0            1   \n",
       "7031                1                0           1            0   \n",
       "\n",
       "      Dependents_No  Dependents_Yes  ...  tenure_group_1 - 12  \\\n",
       "0                 1               0  ...                    1   \n",
       "1                 1               0  ...                    0   \n",
       "2                 1               0  ...                    1   \n",
       "3                 1               0  ...                    0   \n",
       "4                 1               0  ...                    1   \n",
       "...             ...             ...  ...                  ...   \n",
       "7027              0               1  ...                    0   \n",
       "7028              0               1  ...                    0   \n",
       "7029              0               1  ...                    1   \n",
       "7030              1               0  ...                    1   \n",
       "7031              1               0  ...                    0   \n",
       "\n",
       "      tenure_group_13 - 24  tenure_group_25 - 36  tenure_group_37 - 48  \\\n",
       "0                        0                     0                     0   \n",
       "1                        0                     1                     0   \n",
       "2                        0                     0                     0   \n",
       "3                        0                     0                     1   \n",
       "4                        0                     0                     0   \n",
       "...                    ...                   ...                   ...   \n",
       "7027                     1                     0                     0   \n",
       "7028                     0                     0                     0   \n",
       "7029                     0                     0                     0   \n",
       "7030                     0                     0                     0   \n",
       "7031                     0                     0                     0   \n",
       "\n",
       "      tenure_group_49 - 60  tenure_group_61 - 72  MonthlyCharges_buckets_0-30  \\\n",
       "0                        0                     0                            1   \n",
       "1                        0                     0                            0   \n",
       "2                        0                     0                            0   \n",
       "3                        0                     0                            0   \n",
       "4                        0                     0                            0   \n",
       "...                    ...                   ...                          ...   \n",
       "7027                     0                     0                            0   \n",
       "7028                     0                     1                            0   \n",
       "7029                     0                     0                            1   \n",
       "7030                     0                     0                            0   \n",
       "7031                     0                     1                            0   \n",
       "\n",
       "      MonthlyCharges_buckets_31-60  MonthlyCharges_buckets_61-90  \\\n",
       "0                                0                             0   \n",
       "1                                1                             0   \n",
       "2                                1                             0   \n",
       "3                                1                             0   \n",
       "4                                0                             1   \n",
       "...                            ...                           ...   \n",
       "7027                             0                             1   \n",
       "7028                             0                             0   \n",
       "7029                             0                             0   \n",
       "7030                             0                             1   \n",
       "7031                             0                             0   \n",
       "\n",
       "      MonthlyCharges_buckets_91-120  \n",
       "0                                 0  \n",
       "1                                 0  \n",
       "2                                 0  \n",
       "3                                 0  \n",
       "4                                 0  \n",
       "...                             ...  \n",
       "7027                              0  \n",
       "7028                              1  \n",
       "7029                              0  \n",
       "7030                              0  \n",
       "7031                              1  \n",
       "\n",
       "[7032 rows x 55 columns]"
      ]
     },
     "execution_count": 88,
     "metadata": {},
     "output_type": "execute_result"
    }
   ],
   "source": [
    "X=df.drop('Churn',axis=1)\n",
    "X"
   ]
  },
  {
   "cell_type": "code",
   "execution_count": 89,
   "id": "4c23162b",
   "metadata": {},
   "outputs": [
    {
     "data": {
      "text/plain": [
       "0       0\n",
       "1       0\n",
       "2       1\n",
       "3       0\n",
       "4       1\n",
       "       ..\n",
       "7027    0\n",
       "7028    0\n",
       "7029    0\n",
       "7030    1\n",
       "7031    0\n",
       "Name: Churn, Length: 7032, dtype: int64"
      ]
     },
     "execution_count": 89,
     "metadata": {},
     "output_type": "execute_result"
    }
   ],
   "source": [
    "y=df['Churn']\n",
    "y"
   ]
  },
  {
   "cell_type": "code",
   "execution_count": 90,
   "id": "1d61f20e",
   "metadata": {},
   "outputs": [],
   "source": [
    "# Train and test split \n",
    "import sklearn.model_selection as model_selection\n",
    "X_train,X_test,y_train,y_test = model_selection.train_test_split(X,y,test_size=0.2,random_state=200)"
   ]
  },
  {
   "cell_type": "code",
   "execution_count": 91,
   "id": "7ebd0105",
   "metadata": {},
   "outputs": [
    {
     "name": "stdout",
     "output_type": "stream",
     "text": [
      "(7032, 55)\n",
      "(7032,)\n",
      "(5625, 55)\n",
      "(5625,)\n",
      "(1407, 55)\n",
      "(1407,)\n"
     ]
    }
   ],
   "source": [
    "print(X.shape)\n",
    "print(y.shape)\n",
    "print(X_train.shape)\n",
    "print(y_train.shape)\n",
    "print(X_test.shape)\n",
    "print(y_test.shape)"
   ]
  },
  {
   "cell_type": "markdown",
   "id": "ed555348",
   "metadata": {},
   "source": [
    "## Decision Tree Classifier"
   ]
  },
  {
   "cell_type": "code",
   "execution_count": 92,
   "id": "3308fd3d",
   "metadata": {},
   "outputs": [],
   "source": [
    "#Building a classification decision tree model on train set \n",
    "import sklearn.tree as tree "
   ]
  },
  {
   "cell_type": "code",
   "execution_count": 93,
   "id": "b84f5c8c",
   "metadata": {},
   "outputs": [],
   "source": [
    "# Initialize the decision tree classifier (Model)\n",
    "clf = tree.DecisionTreeClassifier( max_depth= 2, random_state=42)"
   ]
  },
  {
   "cell_type": "code",
   "execution_count": 94,
   "id": "aa498d77",
   "metadata": {},
   "outputs": [
    {
     "data": {
      "text/html": [
       "<style>#sk-container-id-9 {color: black;}#sk-container-id-9 pre{padding: 0;}#sk-container-id-9 div.sk-toggleable {background-color: white;}#sk-container-id-9 label.sk-toggleable__label {cursor: pointer;display: block;width: 100%;margin-bottom: 0;padding: 0.3em;box-sizing: border-box;text-align: center;}#sk-container-id-9 label.sk-toggleable__label-arrow:before {content: \"▸\";float: left;margin-right: 0.25em;color: #696969;}#sk-container-id-9 label.sk-toggleable__label-arrow:hover:before {color: black;}#sk-container-id-9 div.sk-estimator:hover label.sk-toggleable__label-arrow:before {color: black;}#sk-container-id-9 div.sk-toggleable__content {max-height: 0;max-width: 0;overflow: hidden;text-align: left;background-color: #f0f8ff;}#sk-container-id-9 div.sk-toggleable__content pre {margin: 0.2em;color: black;border-radius: 0.25em;background-color: #f0f8ff;}#sk-container-id-9 input.sk-toggleable__control:checked~div.sk-toggleable__content {max-height: 200px;max-width: 100%;overflow: auto;}#sk-container-id-9 input.sk-toggleable__control:checked~label.sk-toggleable__label-arrow:before {content: \"▾\";}#sk-container-id-9 div.sk-estimator input.sk-toggleable__control:checked~label.sk-toggleable__label {background-color: #d4ebff;}#sk-container-id-9 div.sk-label input.sk-toggleable__control:checked~label.sk-toggleable__label {background-color: #d4ebff;}#sk-container-id-9 input.sk-hidden--visually {border: 0;clip: rect(1px 1px 1px 1px);clip: rect(1px, 1px, 1px, 1px);height: 1px;margin: -1px;overflow: hidden;padding: 0;position: absolute;width: 1px;}#sk-container-id-9 div.sk-estimator {font-family: monospace;background-color: #f0f8ff;border: 1px dotted black;border-radius: 0.25em;box-sizing: border-box;margin-bottom: 0.5em;}#sk-container-id-9 div.sk-estimator:hover {background-color: #d4ebff;}#sk-container-id-9 div.sk-parallel-item::after {content: \"\";width: 100%;border-bottom: 1px solid gray;flex-grow: 1;}#sk-container-id-9 div.sk-label:hover label.sk-toggleable__label {background-color: #d4ebff;}#sk-container-id-9 div.sk-serial::before {content: \"\";position: absolute;border-left: 1px solid gray;box-sizing: border-box;top: 0;bottom: 0;left: 50%;z-index: 0;}#sk-container-id-9 div.sk-serial {display: flex;flex-direction: column;align-items: center;background-color: white;padding-right: 0.2em;padding-left: 0.2em;position: relative;}#sk-container-id-9 div.sk-item {position: relative;z-index: 1;}#sk-container-id-9 div.sk-parallel {display: flex;align-items: stretch;justify-content: center;background-color: white;position: relative;}#sk-container-id-9 div.sk-item::before, #sk-container-id-9 div.sk-parallel-item::before {content: \"\";position: absolute;border-left: 1px solid gray;box-sizing: border-box;top: 0;bottom: 0;left: 50%;z-index: -1;}#sk-container-id-9 div.sk-parallel-item {display: flex;flex-direction: column;z-index: 1;position: relative;background-color: white;}#sk-container-id-9 div.sk-parallel-item:first-child::after {align-self: flex-end;width: 50%;}#sk-container-id-9 div.sk-parallel-item:last-child::after {align-self: flex-start;width: 50%;}#sk-container-id-9 div.sk-parallel-item:only-child::after {width: 0;}#sk-container-id-9 div.sk-dashed-wrapped {border: 1px dashed gray;margin: 0 0.4em 0.5em 0.4em;box-sizing: border-box;padding-bottom: 0.4em;background-color: white;}#sk-container-id-9 div.sk-label label {font-family: monospace;font-weight: bold;display: inline-block;line-height: 1.2em;}#sk-container-id-9 div.sk-label-container {text-align: center;}#sk-container-id-9 div.sk-container {/* jupyter's `normalize.less` sets `[hidden] { display: none; }` but bootstrap.min.css set `[hidden] { display: none !important; }` so we also need the `!important` here to be able to override the default hidden behavior on the sphinx rendered scikit-learn.org. See: https://github.com/scikit-learn/scikit-learn/issues/21755 */display: inline-block !important;position: relative;}#sk-container-id-9 div.sk-text-repr-fallback {display: none;}</style><div id=\"sk-container-id-9\" class=\"sk-top-container\"><div class=\"sk-text-repr-fallback\"><pre>DecisionTreeClassifier(max_depth=2, random_state=42)</pre><b>In a Jupyter environment, please rerun this cell to show the HTML representation or trust the notebook. <br />On GitHub, the HTML representation is unable to render, please try loading this page with nbviewer.org.</b></div><div class=\"sk-container\" hidden><div class=\"sk-item\"><div class=\"sk-estimator sk-toggleable\"><input class=\"sk-toggleable__control sk-hidden--visually\" id=\"sk-estimator-id-13\" type=\"checkbox\" checked><label for=\"sk-estimator-id-13\" class=\"sk-toggleable__label sk-toggleable__label-arrow\">DecisionTreeClassifier</label><div class=\"sk-toggleable__content\"><pre>DecisionTreeClassifier(max_depth=2, random_state=42)</pre></div></div></div></div></div>"
      ],
      "text/plain": [
       "DecisionTreeClassifier(max_depth=2, random_state=42)"
      ]
     },
     "execution_count": 94,
     "metadata": {},
     "output_type": "execute_result"
    }
   ],
   "source": [
    "# Training/fit the tree model on training set \n",
    "clf.fit( X_train, y_train)  # Passing feature set and also corresponding labels"
   ]
  },
  {
   "cell_type": "code",
   "execution_count": 95,
   "id": "7beb6aea",
   "metadata": {},
   "outputs": [
    {
     "data": {
      "text/plain": [
       "array([1, 0, 0, ..., 0, 0, 1], dtype=int64)"
      ]
     },
     "execution_count": 95,
     "metadata": {},
     "output_type": "execute_result"
    }
   ],
   "source": [
    "# Check prediction on training set \n",
    "predictions = clf.predict(X_train)  # Predicted values on the trainset. \n",
    "predictions"
   ]
  },
  {
   "cell_type": "code",
   "execution_count": 96,
   "id": "d485bef4",
   "metadata": {},
   "outputs": [
    {
     "data": {
      "text/plain": [
       "4665    1\n",
       "5464    0\n",
       "4513    0\n",
       "1744    0\n",
       "1574    1\n",
       "       ..\n",
       "2858    0\n",
       "5956    0\n",
       "784     0\n",
       "4713    1\n",
       "1818    1\n",
       "Name: Churn, Length: 5625, dtype: int64"
      ]
     },
     "execution_count": 96,
     "metadata": {},
     "output_type": "execute_result"
    }
   ],
   "source": [
    "y_train # Actual classes of traning dataset "
   ]
  },
  {
   "cell_type": "code",
   "execution_count": 97,
   "id": "e1d928a2",
   "metadata": {},
   "outputs": [
    {
     "data": {
      "text/plain": [
       "array([[3376,  764],\n",
       "       [ 562,  923]], dtype=int64)"
      ]
     },
     "execution_count": 97,
     "metadata": {},
     "output_type": "execute_result"
    }
   ],
   "source": [
    "# Confusion Matrix \n",
    "from sklearn.metrics import confusion_matrix\n",
    "from sklearn.metrics import classification_report\n",
    "from sklearn.metrics import ConfusionMatrixDisplay\n",
    "\n",
    "conf_matrix = confusion_matrix (y_train, predictions)\n",
    "conf_matrix"
   ]
  },
  {
   "cell_type": "code",
   "execution_count": 98,
   "id": "427b22ed",
   "metadata": {},
   "outputs": [
    {
     "data": {
      "image/png": "[encoded data removed]",
      "text/plain": [
       "<Figure size 640x480 with 2 Axes>"
      ]
     },
     "metadata": {},
     "output_type": "display_data"
    }
   ],
   "source": [
    "import matplotlib.pyplot as plt\n",
    "disp = ConfusionMatrixDisplay(confusion_matrix = conf_matrix, display_labels= clf.classes_ )\n",
    "disp.plot()\n",
    "plt.show()"
   ]
  },
  {
   "cell_type": "code",
   "execution_count": 99,
   "id": "35998634",
   "metadata": {},
   "outputs": [
    {
     "data": {
      "text/plain": [
       "0.7642666666666666"
      ]
     },
     "execution_count": 99,
     "metadata": {},
     "output_type": "execute_result"
    }
   ],
   "source": [
    "(3376+923)/(3376+923+764+562)"
   ]
  },
  {
   "cell_type": "code",
   "execution_count": 100,
   "id": "9ed8e021",
   "metadata": {},
   "outputs": [
    {
     "data": {
      "text/plain": [
       "0.7642666666666666"
      ]
     },
     "execution_count": 100,
     "metadata": {},
     "output_type": "execute_result"
    }
   ],
   "source": [
    "# Accuracy of tree on training set ? \n",
    "# 80% \n",
    "clf.score(X_train, y_train)"
   ]
  },
  {
   "cell_type": "code",
   "execution_count": 101,
   "id": "a4adc3a4",
   "metadata": {},
   "outputs": [],
   "source": [
    "# Get prediction on testing dataset \n",
    "predict_test = clf.predict(X_test)"
   ]
  },
  {
   "cell_type": "code",
   "execution_count": 102,
   "id": "d8da8f6e",
   "metadata": {},
   "outputs": [
    {
     "data": {
      "text/plain": [
       "array([1, 1, 0, ..., 0, 1, 0], dtype=int64)"
      ]
     },
     "execution_count": 102,
     "metadata": {},
     "output_type": "execute_result"
    }
   ],
   "source": [
    "predict_test"
   ]
  },
  {
   "cell_type": "code",
   "execution_count": 103,
   "id": "40171d72",
   "metadata": {},
   "outputs": [
    {
     "data": {
      "image/png": "[encoded data removed]",
      "text/plain": [
       "<Figure size 640x480 with 2 Axes>"
      ]
     },
     "metadata": {},
     "output_type": "display_data"
    }
   ],
   "source": [
    "conf_matrix = confusion_matrix (y_test, predict_test)\n",
    "disp = ConfusionMatrixDisplay(confusion_matrix = conf_matrix, display_labels= clf.classes_ )\n",
    "disp.plot()\n",
    "plt.show()"
   ]
  },
  {
   "cell_type": "code",
   "execution_count": 104,
   "id": "0b3b2c8c",
   "metadata": {},
   "outputs": [
    {
     "data": {
      "text/plain": [
       "0.7533759772565742"
      ]
     },
     "execution_count": 104,
     "metadata": {},
     "output_type": "execute_result"
    }
   ],
   "source": [
    "clf.score( X_test, y_test)   # Accuracy of model on test set ( Unseen data-set)"
   ]
  },
  {
   "cell_type": "markdown",
   "id": "1228ddf4",
   "metadata": {},
   "source": [
    "## Grid Search Cross Validation for finding the best set of hyperparameters for Descision Tree"
   ]
  },
  {
   "cell_type": "code",
   "execution_count": 105,
   "id": "f5dce72d",
   "metadata": {},
   "outputs": [],
   "source": [
    "mod = model_selection.GridSearchCV(clf, \n",
    "                                  param_grid = {'max_depth' :[2,3,4,5,6,7,8,9,10]})"
   ]
  },
  {
   "cell_type": "code",
   "execution_count": 106,
   "id": "0d7b78ff",
   "metadata": {},
   "outputs": [
    {
     "data": {
      "text/html": [
       "<style>#sk-container-id-10 {color: black;}#sk-container-id-10 pre{padding: 0;}#sk-container-id-10 div.sk-toggleable {background-color: white;}#sk-container-id-10 label.sk-toggleable__label {cursor: pointer;display: block;width: 100%;margin-bottom: 0;padding: 0.3em;box-sizing: border-box;text-align: center;}#sk-container-id-10 label.sk-toggleable__label-arrow:before {content: \"▸\";float: left;margin-right: 0.25em;color: #696969;}#sk-container-id-10 label.sk-toggleable__label-arrow:hover:before {color: black;}#sk-container-id-10 div.sk-estimator:hover label.sk-toggleable__label-arrow:before {color: black;}#sk-container-id-10 div.sk-toggleable__content {max-height: 0;max-width: 0;overflow: hidden;text-align: left;background-color: #f0f8ff;}#sk-container-id-10 div.sk-toggleable__content pre {margin: 0.2em;color: black;border-radius: 0.25em;background-color: #f0f8ff;}#sk-container-id-10 input.sk-toggleable__control:checked~div.sk-toggleable__content {max-height: 200px;max-width: 100%;overflow: auto;}#sk-container-id-10 input.sk-toggleable__control:checked~label.sk-toggleable__label-arrow:before {content: \"▾\";}#sk-container-id-10 div.sk-estimator input.sk-toggleable__control:checked~label.sk-toggleable__label {background-color: #d4ebff;}#sk-container-id-10 div.sk-label input.sk-toggleable__control:checked~label.sk-toggleable__label {background-color: #d4ebff;}#sk-container-id-10 input.sk-hidden--visually {border: 0;clip: rect(1px 1px 1px 1px);clip: rect(1px, 1px, 1px, 1px);height: 1px;margin: -1px;overflow: hidden;padding: 0;position: absolute;width: 1px;}#sk-container-id-10 div.sk-estimator {font-family: monospace;background-color: #f0f8ff;border: 1px dotted black;border-radius: 0.25em;box-sizing: border-box;margin-bottom: 0.5em;}#sk-container-id-10 div.sk-estimator:hover {background-color: #d4ebff;}#sk-container-id-10 div.sk-parallel-item::after {content: \"\";width: 100%;border-bottom: 1px solid gray;flex-grow: 1;}#sk-container-id-10 div.sk-label:hover label.sk-toggleable__label {background-color: #d4ebff;}#sk-container-id-10 div.sk-serial::before {content: \"\";position: absolute;border-left: 1px solid gray;box-sizing: border-box;top: 0;bottom: 0;left: 50%;z-index: 0;}#sk-container-id-10 div.sk-serial {display: flex;flex-direction: column;align-items: center;background-color: white;padding-right: 0.2em;padding-left: 0.2em;position: relative;}#sk-container-id-10 div.sk-item {position: relative;z-index: 1;}#sk-container-id-10 div.sk-parallel {display: flex;align-items: stretch;justify-content: center;background-color: white;position: relative;}#sk-container-id-10 div.sk-item::before, #sk-container-id-10 div.sk-parallel-item::before {content: \"\";position: absolute;border-left: 1px solid gray;box-sizing: border-box;top: 0;bottom: 0;left: 50%;z-index: -1;}#sk-container-id-10 div.sk-parallel-item {display: flex;flex-direction: column;z-index: 1;position: relative;background-color: white;}#sk-container-id-10 div.sk-parallel-item:first-child::after {align-self: flex-end;width: 50%;}#sk-container-id-10 div.sk-parallel-item:last-child::after {align-self: flex-start;width: 50%;}#sk-container-id-10 div.sk-parallel-item:only-child::after {width: 0;}#sk-container-id-10 div.sk-dashed-wrapped {border: 1px dashed gray;margin: 0 0.4em 0.5em 0.4em;box-sizing: border-box;padding-bottom: 0.4em;background-color: white;}#sk-container-id-10 div.sk-label label {font-family: monospace;font-weight: bold;display: inline-block;line-height: 1.2em;}#sk-container-id-10 div.sk-label-container {text-align: center;}#sk-container-id-10 div.sk-container {/* jupyter's `normalize.less` sets `[hidden] { display: none; }` but bootstrap.min.css set `[hidden] { display: none !important; }` so we also need the `!important` here to be able to override the default hidden behavior on the sphinx rendered scikit-learn.org. See: https://github.com/scikit-learn/scikit-learn/issues/21755 */display: inline-block !important;position: relative;}#sk-container-id-10 div.sk-text-repr-fallback {display: none;}</style><div id=\"sk-container-id-10\" class=\"sk-top-container\"><div class=\"sk-text-repr-fallback\"><pre>GridSearchCV(estimator=DecisionTreeClassifier(max_depth=2, random_state=42),\n",
       "             param_grid={&#x27;max_depth&#x27;: [2, 3, 4, 5, 6, 7, 8, 9, 10]})</pre><b>In a Jupyter environment, please rerun this cell to show the HTML representation or trust the notebook. <br />On GitHub, the HTML representation is unable to render, please try loading this page with nbviewer.org.</b></div><div class=\"sk-container\" hidden><div class=\"sk-item sk-dashed-wrapped\"><div class=\"sk-label-container\"><div class=\"sk-label sk-toggleable\"><input class=\"sk-toggleable__control sk-hidden--visually\" id=\"sk-estimator-id-14\" type=\"checkbox\" ><label for=\"sk-estimator-id-14\" class=\"sk-toggleable__label sk-toggleable__label-arrow\">GridSearchCV</label><div class=\"sk-toggleable__content\"><pre>GridSearchCV(estimator=DecisionTreeClassifier(max_depth=2, random_state=42),\n",
       "             param_grid={&#x27;max_depth&#x27;: [2, 3, 4, 5, 6, 7, 8, 9, 10]})</pre></div></div></div><div class=\"sk-parallel\"><div class=\"sk-parallel-item\"><div class=\"sk-item\"><div class=\"sk-label-container\"><div class=\"sk-label sk-toggleable\"><input class=\"sk-toggleable__control sk-hidden--visually\" id=\"sk-estimator-id-15\" type=\"checkbox\" ><label for=\"sk-estimator-id-15\" class=\"sk-toggleable__label sk-toggleable__label-arrow\">estimator: DecisionTreeClassifier</label><div class=\"sk-toggleable__content\"><pre>DecisionTreeClassifier(max_depth=2, random_state=42)</pre></div></div></div><div class=\"sk-serial\"><div class=\"sk-item\"><div class=\"sk-estimator sk-toggleable\"><input class=\"sk-toggleable__control sk-hidden--visually\" id=\"sk-estimator-id-16\" type=\"checkbox\" ><label for=\"sk-estimator-id-16\" class=\"sk-toggleable__label sk-toggleable__label-arrow\">DecisionTreeClassifier</label><div class=\"sk-toggleable__content\"><pre>DecisionTreeClassifier(max_depth=2, random_state=42)</pre></div></div></div></div></div></div></div></div></div></div>"
      ],
      "text/plain": [
       "GridSearchCV(estimator=DecisionTreeClassifier(max_depth=2, random_state=42),\n",
       "             param_grid={'max_depth': [2, 3, 4, 5, 6, 7, 8, 9, 10]})"
      ]
     },
     "execution_count": 106,
     "metadata": {},
     "output_type": "execute_result"
    }
   ],
   "source": [
    "mod.fit(X_train, y_train)"
   ]
  },
  {
   "cell_type": "code",
   "execution_count": 107,
   "id": "a993039c",
   "metadata": {},
   "outputs": [
    {
     "data": {
      "text/html": [
       "<style>#sk-container-id-11 {color: black;}#sk-container-id-11 pre{padding: 0;}#sk-container-id-11 div.sk-toggleable {background-color: white;}#sk-container-id-11 label.sk-toggleable__label {cursor: pointer;display: block;width: 100%;margin-bottom: 0;padding: 0.3em;box-sizing: border-box;text-align: center;}#sk-container-id-11 label.sk-toggleable__label-arrow:before {content: \"▸\";float: left;margin-right: 0.25em;color: #696969;}#sk-container-id-11 label.sk-toggleable__label-arrow:hover:before {color: black;}#sk-container-id-11 div.sk-estimator:hover label.sk-toggleable__label-arrow:before {color: black;}#sk-container-id-11 div.sk-toggleable__content {max-height: 0;max-width: 0;overflow: hidden;text-align: left;background-color: #f0f8ff;}#sk-container-id-11 div.sk-toggleable__content pre {margin: 0.2em;color: black;border-radius: 0.25em;background-color: #f0f8ff;}#sk-container-id-11 input.sk-toggleable__control:checked~div.sk-toggleable__content {max-height: 200px;max-width: 100%;overflow: auto;}#sk-container-id-11 input.sk-toggleable__control:checked~label.sk-toggleable__label-arrow:before {content: \"▾\";}#sk-container-id-11 div.sk-estimator input.sk-toggleable__control:checked~label.sk-toggleable__label {background-color: #d4ebff;}#sk-container-id-11 div.sk-label input.sk-toggleable__control:checked~label.sk-toggleable__label {background-color: #d4ebff;}#sk-container-id-11 input.sk-hidden--visually {border: 0;clip: rect(1px 1px 1px 1px);clip: rect(1px, 1px, 1px, 1px);height: 1px;margin: -1px;overflow: hidden;padding: 0;position: absolute;width: 1px;}#sk-container-id-11 div.sk-estimator {font-family: monospace;background-color: #f0f8ff;border: 1px dotted black;border-radius: 0.25em;box-sizing: border-box;margin-bottom: 0.5em;}#sk-container-id-11 div.sk-estimator:hover {background-color: #d4ebff;}#sk-container-id-11 div.sk-parallel-item::after {content: \"\";width: 100%;border-bottom: 1px solid gray;flex-grow: 1;}#sk-container-id-11 div.sk-label:hover label.sk-toggleable__label {background-color: #d4ebff;}#sk-container-id-11 div.sk-serial::before {content: \"\";position: absolute;border-left: 1px solid gray;box-sizing: border-box;top: 0;bottom: 0;left: 50%;z-index: 0;}#sk-container-id-11 div.sk-serial {display: flex;flex-direction: column;align-items: center;background-color: white;padding-right: 0.2em;padding-left: 0.2em;position: relative;}#sk-container-id-11 div.sk-item {position: relative;z-index: 1;}#sk-container-id-11 div.sk-parallel {display: flex;align-items: stretch;justify-content: center;background-color: white;position: relative;}#sk-container-id-11 div.sk-item::before, #sk-container-id-11 div.sk-parallel-item::before {content: \"\";position: absolute;border-left: 1px solid gray;box-sizing: border-box;top: 0;bottom: 0;left: 50%;z-index: -1;}#sk-container-id-11 div.sk-parallel-item {display: flex;flex-direction: column;z-index: 1;position: relative;background-color: white;}#sk-container-id-11 div.sk-parallel-item:first-child::after {align-self: flex-end;width: 50%;}#sk-container-id-11 div.sk-parallel-item:last-child::after {align-self: flex-start;width: 50%;}#sk-container-id-11 div.sk-parallel-item:only-child::after {width: 0;}#sk-container-id-11 div.sk-dashed-wrapped {border: 1px dashed gray;margin: 0 0.4em 0.5em 0.4em;box-sizing: border-box;padding-bottom: 0.4em;background-color: white;}#sk-container-id-11 div.sk-label label {font-family: monospace;font-weight: bold;display: inline-block;line-height: 1.2em;}#sk-container-id-11 div.sk-label-container {text-align: center;}#sk-container-id-11 div.sk-container {/* jupyter's `normalize.less` sets `[hidden] { display: none; }` but bootstrap.min.css set `[hidden] { display: none !important; }` so we also need the `!important` here to be able to override the default hidden behavior on the sphinx rendered scikit-learn.org. See: https://github.com/scikit-learn/scikit-learn/issues/21755 */display: inline-block !important;position: relative;}#sk-container-id-11 div.sk-text-repr-fallback {display: none;}</style><div id=\"sk-container-id-11\" class=\"sk-top-container\"><div class=\"sk-text-repr-fallback\"><pre>DecisionTreeClassifier(max_depth=4, random_state=42)</pre><b>In a Jupyter environment, please rerun this cell to show the HTML representation or trust the notebook. <br />On GitHub, the HTML representation is unable to render, please try loading this page with nbviewer.org.</b></div><div class=\"sk-container\" hidden><div class=\"sk-item\"><div class=\"sk-estimator sk-toggleable\"><input class=\"sk-toggleable__control sk-hidden--visually\" id=\"sk-estimator-id-17\" type=\"checkbox\" checked><label for=\"sk-estimator-id-17\" class=\"sk-toggleable__label sk-toggleable__label-arrow\">DecisionTreeClassifier</label><div class=\"sk-toggleable__content\"><pre>DecisionTreeClassifier(max_depth=4, random_state=42)</pre></div></div></div></div></div>"
      ],
      "text/plain": [
       "DecisionTreeClassifier(max_depth=4, random_state=42)"
      ]
     },
     "execution_count": 107,
     "metadata": {},
     "output_type": "execute_result"
    }
   ],
   "source": [
    "#the most accuracy across all the different tree built by varying depth\n",
    "mod.best_estimator_  "
   ]
  },
  {
   "cell_type": "code",
   "execution_count": 108,
   "id": "422ef1ba",
   "metadata": {},
   "outputs": [
    {
     "data": {
      "text/plain": [
       "0.7905777777777778"
      ]
     },
     "execution_count": 108,
     "metadata": {},
     "output_type": "execute_result"
    }
   ],
   "source": [
    "mod.best_score_"
   ]
  },
  {
   "cell_type": "code",
   "execution_count": 109,
   "id": "b16e69d1",
   "metadata": {},
   "outputs": [
    {
     "name": "stdout",
     "output_type": "stream",
     "text": [
      "Best Estimator: DecisionTreeClassifier(criterion='entropy', max_depth=4, random_state=200)\n",
      "Best Score: 0.7911111111111111\n"
     ]
    }
   ],
   "source": [
    "from sklearn.model_selection import GridSearchCV\n",
    "from sklearn.tree import DecisionTreeClassifier\n",
    "from sklearn import model_selection\n",
    "\n",
    "# Assuming X_train and y_train are our training data\n",
    "clf = DecisionTreeClassifier(random_state=200)\n",
    "\n",
    "# Defining the parameter grid\n",
    "param_grid = {\n",
    "    'criterion': ['entropy', 'gini'],\n",
    "    'max_depth': [2, 3, 4, 5, 6, 7, 8, 9, 10, 15, 20, 25, 30]\n",
    "}\n",
    "\n",
    "# Create the GridSearchCV object\n",
    "mod = GridSearchCV(clf, param_grid, cv=5)\n",
    "mod.fit(X_train, y_train)\n",
    "\n",
    "# Print the best estimator and best score\n",
    "print(\"Best Estimator:\", mod.best_estimator_)\n",
    "print(\"Best Score:\", mod.best_score_)"
   ]
  },
  {
   "cell_type": "code",
   "execution_count": 110,
   "id": "bd4b3b61",
   "metadata": {},
   "outputs": [],
   "source": [
    "# Hyper parameter tunes which are found by the Grid search Cross validation on the descision tree model"
   ]
  },
  {
   "cell_type": "code",
   "execution_count": 111,
   "id": "36be1323",
   "metadata": {},
   "outputs": [],
   "source": [
    "clf1 = tree.DecisionTreeClassifier(criterion='entropy', max_depth=4, random_state=200)"
   ]
  },
  {
   "cell_type": "code",
   "execution_count": 112,
   "id": "22f248a5",
   "metadata": {},
   "outputs": [
    {
     "data": {
      "text/html": [
       "<style>#sk-container-id-12 {color: black;}#sk-container-id-12 pre{padding: 0;}#sk-container-id-12 div.sk-toggleable {background-color: white;}#sk-container-id-12 label.sk-toggleable__label {cursor: pointer;display: block;width: 100%;margin-bottom: 0;padding: 0.3em;box-sizing: border-box;text-align: center;}#sk-container-id-12 label.sk-toggleable__label-arrow:before {content: \"▸\";float: left;margin-right: 0.25em;color: #696969;}#sk-container-id-12 label.sk-toggleable__label-arrow:hover:before {color: black;}#sk-container-id-12 div.sk-estimator:hover label.sk-toggleable__label-arrow:before {color: black;}#sk-container-id-12 div.sk-toggleable__content {max-height: 0;max-width: 0;overflow: hidden;text-align: left;background-color: #f0f8ff;}#sk-container-id-12 div.sk-toggleable__content pre {margin: 0.2em;color: black;border-radius: 0.25em;background-color: #f0f8ff;}#sk-container-id-12 input.sk-toggleable__control:checked~div.sk-toggleable__content {max-height: 200px;max-width: 100%;overflow: auto;}#sk-container-id-12 input.sk-toggleable__control:checked~label.sk-toggleable__label-arrow:before {content: \"▾\";}#sk-container-id-12 div.sk-estimator input.sk-toggleable__control:checked~label.sk-toggleable__label {background-color: #d4ebff;}#sk-container-id-12 div.sk-label input.sk-toggleable__control:checked~label.sk-toggleable__label {background-color: #d4ebff;}#sk-container-id-12 input.sk-hidden--visually {border: 0;clip: rect(1px 1px 1px 1px);clip: rect(1px, 1px, 1px, 1px);height: 1px;margin: -1px;overflow: hidden;padding: 0;position: absolute;width: 1px;}#sk-container-id-12 div.sk-estimator {font-family: monospace;background-color: #f0f8ff;border: 1px dotted black;border-radius: 0.25em;box-sizing: border-box;margin-bottom: 0.5em;}#sk-container-id-12 div.sk-estimator:hover {background-color: #d4ebff;}#sk-container-id-12 div.sk-parallel-item::after {content: \"\";width: 100%;border-bottom: 1px solid gray;flex-grow: 1;}#sk-container-id-12 div.sk-label:hover label.sk-toggleable__label {background-color: #d4ebff;}#sk-container-id-12 div.sk-serial::before {content: \"\";position: absolute;border-left: 1px solid gray;box-sizing: border-box;top: 0;bottom: 0;left: 50%;z-index: 0;}#sk-container-id-12 div.sk-serial {display: flex;flex-direction: column;align-items: center;background-color: white;padding-right: 0.2em;padding-left: 0.2em;position: relative;}#sk-container-id-12 div.sk-item {position: relative;z-index: 1;}#sk-container-id-12 div.sk-parallel {display: flex;align-items: stretch;justify-content: center;background-color: white;position: relative;}#sk-container-id-12 div.sk-item::before, #sk-container-id-12 div.sk-parallel-item::before {content: \"\";position: absolute;border-left: 1px solid gray;box-sizing: border-box;top: 0;bottom: 0;left: 50%;z-index: -1;}#sk-container-id-12 div.sk-parallel-item {display: flex;flex-direction: column;z-index: 1;position: relative;background-color: white;}#sk-container-id-12 div.sk-parallel-item:first-child::after {align-self: flex-end;width: 50%;}#sk-container-id-12 div.sk-parallel-item:last-child::after {align-self: flex-start;width: 50%;}#sk-container-id-12 div.sk-parallel-item:only-child::after {width: 0;}#sk-container-id-12 div.sk-dashed-wrapped {border: 1px dashed gray;margin: 0 0.4em 0.5em 0.4em;box-sizing: border-box;padding-bottom: 0.4em;background-color: white;}#sk-container-id-12 div.sk-label label {font-family: monospace;font-weight: bold;display: inline-block;line-height: 1.2em;}#sk-container-id-12 div.sk-label-container {text-align: center;}#sk-container-id-12 div.sk-container {/* jupyter's `normalize.less` sets `[hidden] { display: none; }` but bootstrap.min.css set `[hidden] { display: none !important; }` so we also need the `!important` here to be able to override the default hidden behavior on the sphinx rendered scikit-learn.org. See: https://github.com/scikit-learn/scikit-learn/issues/21755 */display: inline-block !important;position: relative;}#sk-container-id-12 div.sk-text-repr-fallback {display: none;}</style><div id=\"sk-container-id-12\" class=\"sk-top-container\"><div class=\"sk-text-repr-fallback\"><pre>DecisionTreeClassifier(criterion=&#x27;entropy&#x27;, max_depth=4, random_state=200)</pre><b>In a Jupyter environment, please rerun this cell to show the HTML representation or trust the notebook. <br />On GitHub, the HTML representation is unable to render, please try loading this page with nbviewer.org.</b></div><div class=\"sk-container\" hidden><div class=\"sk-item\"><div class=\"sk-estimator sk-toggleable\"><input class=\"sk-toggleable__control sk-hidden--visually\" id=\"sk-estimator-id-18\" type=\"checkbox\" checked><label for=\"sk-estimator-id-18\" class=\"sk-toggleable__label sk-toggleable__label-arrow\">DecisionTreeClassifier</label><div class=\"sk-toggleable__content\"><pre>DecisionTreeClassifier(criterion=&#x27;entropy&#x27;, max_depth=4, random_state=200)</pre></div></div></div></div></div>"
      ],
      "text/plain": [
       "DecisionTreeClassifier(criterion='entropy', max_depth=4, random_state=200)"
      ]
     },
     "execution_count": 112,
     "metadata": {},
     "output_type": "execute_result"
    }
   ],
   "source": [
    "clf1.fit( X_train, y_train) "
   ]
  },
  {
   "cell_type": "code",
   "execution_count": 113,
   "id": "330751c9",
   "metadata": {},
   "outputs": [
    {
     "data": {
      "text/plain": [
       "array([0, 0, 0, ..., 0, 0, 0], dtype=int64)"
      ]
     },
     "execution_count": 113,
     "metadata": {},
     "output_type": "execute_result"
    }
   ],
   "source": [
    "# Check prediction on training set \n",
    "predictions = clf1.predict(X_train)  # Predicted values on the trainset. \n",
    "predictions"
   ]
  },
  {
   "cell_type": "code",
   "execution_count": 114,
   "id": "1b297555",
   "metadata": {},
   "outputs": [
    {
     "data": {
      "text/plain": [
       "4665    1\n",
       "5464    0\n",
       "4513    0\n",
       "1744    0\n",
       "1574    1\n",
       "       ..\n",
       "2858    0\n",
       "5956    0\n",
       "784     0\n",
       "4713    1\n",
       "1818    1\n",
       "Name: Churn, Length: 5625, dtype: int64"
      ]
     },
     "execution_count": 114,
     "metadata": {},
     "output_type": "execute_result"
    }
   ],
   "source": [
    "y_train # Actual classes of traning dataset "
   ]
  },
  {
   "cell_type": "code",
   "execution_count": 115,
   "id": "f76d104a",
   "metadata": {},
   "outputs": [
    {
     "data": {
      "text/plain": [
       "0.7939555555555555"
      ]
     },
     "execution_count": 115,
     "metadata": {},
     "output_type": "execute_result"
    }
   ],
   "source": [
    "# Accuracy of tree on training set ? \n",
    "# 79.39% \n",
    "clf1.score(X_train, y_train)"
   ]
  },
  {
   "cell_type": "code",
   "execution_count": 116,
   "id": "17b79ef0",
   "metadata": {},
   "outputs": [
    {
     "data": {
      "text/plain": [
       "0.7867803837953091"
      ]
     },
     "execution_count": 116,
     "metadata": {},
     "output_type": "execute_result"
    }
   ],
   "source": [
    "clf1.score( X_test, y_test)   # Accuracy of model on test set ( Unseen data-set)"
   ]
  },
  {
   "cell_type": "code",
   "execution_count": 117,
   "id": "ca5b1f47",
   "metadata": {},
   "outputs": [
    {
     "data": {
      "image/png": "[encoded data removed]",
      "text/plain": [
       "<Figure size 640x480 with 1 Axes>"
      ]
     },
     "metadata": {},
     "output_type": "display_data"
    }
   ],
   "source": [
    "import seaborn as sns\n",
    "\n",
    "# Assuming X_test and y_test are your test data\n",
    "y_pred = clf1.predict(X_test)\n",
    "\n",
    "# Create the confusion matrix\n",
    "conf_matrix = confusion_matrix(y_test, y_pred)\n",
    "\n",
    "# Display the confusion matrix using a heatmap with 'coolwarm' colormap\n",
    "sns.heatmap(conf_matrix, annot=True, fmt='d', cmap='coolwarm', cbar=False,\n",
    "            xticklabels=['Predicted 0', 'Predicted 1'],\n",
    "            yticklabels=['Actual 0', 'Actual 1'])\n",
    "\n",
    "plt.xlabel('Predicted Label')\n",
    "plt.ylabel('True Label')\n",
    "plt.title('Confusion Matrix')\n",
    "plt.show()"
   ]
  },
  {
   "cell_type": "code",
   "execution_count": 118,
   "id": "a6973b4b",
   "metadata": {},
   "outputs": [
    {
     "data": {
      "text/plain": [
       "0.7867803837953091"
      ]
     },
     "execution_count": 118,
     "metadata": {},
     "output_type": "execute_result"
    }
   ],
   "source": [
    "# Accuracy %\n",
    "(918+189)/(918+189+105+195)"
   ]
  },
  {
   "cell_type": "code",
   "execution_count": 119,
   "id": "26f85ab7",
   "metadata": {},
   "outputs": [
    {
     "name": "stdout",
     "output_type": "stream",
     "text": [
      "[36 16  1 28 37 38 10 33 35 54 21 20 19 18 17 15 14 23 13 12 11  9  8  7\n",
      "  6  5  4  3  2 22 27 24 25 52 51 50 49 48 47 46 45 44 43 42 41 40 39 34\n",
      " 32 31 30 29 53 26  0]\n"
     ]
    }
   ],
   "source": [
    "import numpy as np\n",
    "\n",
    "clf1.feature_importances_  # Importance of each feature in the order as they were used model \n",
    "sorted_indices = np.argsort(clf1.feature_importances_)[::-1]\n",
    "print(sorted_indices)"
   ]
  },
  {
   "cell_type": "code",
   "execution_count": 120,
   "id": "ab37098a",
   "metadata": {},
   "outputs": [
    {
     "name": "stdout",
     "output_type": "stream",
     "text": [
      "                                    Feature  Importance\n",
      "36                  Contract_Month-to-month    0.566877\n",
      "16              InternetService_Fiber optic    0.178304\n",
      "1                              TotalCharges    0.154635\n",
      "28          TechSupport_No internet service    0.032383\n",
      "37                        Contract_One year    0.018990\n",
      "38                        Contract_Two year    0.015942\n",
      "10                          PhoneService_No    0.011940\n",
      "33                       StreamingMovies_No    0.011011\n",
      "35                      StreamingMovies_Yes    0.009919\n",
      "41  PaymentMethod_Bank transfer (automatic)    0.000000\n",
      "31          StreamingTV_No internet service    0.000000\n",
      "32                          StreamingTV_Yes    0.000000\n",
      "34      StreamingMovies_No internet service    0.000000\n",
      "39                      PaperlessBilling_No    0.000000\n",
      "40                     PaperlessBilling_Yes    0.000000\n",
      "0                            MonthlyCharges    0.000000\n",
      "30                           StreamingTV_No    0.000000\n",
      "43           PaymentMethod_Electronic check    0.000000\n",
      "44               PaymentMethod_Mailed check    0.000000\n",
      "45                      tenure_group_1 - 12    0.000000\n",
      "46                     tenure_group_13 - 24    0.000000\n",
      "47                     tenure_group_25 - 36    0.000000\n",
      "48                     tenure_group_37 - 48    0.000000\n",
      "49                     tenure_group_49 - 60    0.000000\n",
      "50                     tenure_group_61 - 72    0.000000\n",
      "51              MonthlyCharges_buckets_0-30    0.000000\n",
      "52             MonthlyCharges_buckets_31-60    0.000000\n",
      "53             MonthlyCharges_buckets_61-90    0.000000\n",
      "42    PaymentMethod_Credit card (automatic)    0.000000\n",
      "27                           TechSupport_No    0.000000\n",
      "29                          TechSupport_Yes    0.000000\n",
      "13           MultipleLines_No phone service    0.000000\n",
      "2                             gender_Female    0.000000\n",
      "3                               gender_Male    0.000000\n",
      "4                           SeniorCitizen_0    0.000000\n",
      "5                           SeniorCitizen_1    0.000000\n",
      "6                                Partner_No    0.000000\n",
      "7                               Partner_Yes    0.000000\n",
      "8                             Dependents_No    0.000000\n",
      "9                            Dependents_Yes    0.000000\n",
      "11                         PhoneService_Yes    0.000000\n",
      "12                         MultipleLines_No    0.000000\n",
      "14                        MultipleLines_Yes    0.000000\n",
      "26                     DeviceProtection_Yes    0.000000\n",
      "15                      InternetService_DSL    0.000000\n",
      "17                       InternetService_No    0.000000\n",
      "18                        OnlineSecurity_No    0.000000\n",
      "19       OnlineSecurity_No internet service    0.000000\n",
      "20                       OnlineSecurity_Yes    0.000000\n",
      "21                          OnlineBackup_No    0.000000\n",
      "22         OnlineBackup_No internet service    0.000000\n",
      "23                         OnlineBackup_Yes    0.000000\n",
      "24                      DeviceProtection_No    0.000000\n",
      "25     DeviceProtection_No internet service    0.000000\n",
      "54            MonthlyCharges_buckets_91-120    0.000000\n"
     ]
    },
    {
     "data": {
      "image/png": "[encoded data removed]",
      "text/plain": [
       "<Figure size 1000x600 with 1 Axes>"
      ]
     },
     "metadata": {},
     "output_type": "display_data"
    }
   ],
   "source": [
    "import pandas as pd\n",
    "import matplotlib.pyplot as plt\n",
    "\n",
    "# Assuming clf1 is your trained decision tree classifier\n",
    "feature_importances = clf1.feature_importances_\n",
    "features = X.columns  # Assuming X is your feature matrix, adjust accordingly\n",
    "\n",
    "# Create a DataFrame with feature names and importances\n",
    "feature_importance_df = pd.DataFrame({\n",
    "    'Feature': features,\n",
    "    'Importance': feature_importances\n",
    "})\n",
    "\n",
    "# Sort the DataFrame by importance in descending order\n",
    "feature_importance_df = feature_importance_df.sort_values(by='Importance', ascending=False)\n",
    "\n",
    "# Display the table\n",
    "print(feature_importance_df)\n",
    "\n",
    "# Plot the top 9 important features in descending order\n",
    "plt.figure(figsize=(10, 6))\n",
    "plt.barh(feature_importance_df['Feature'].head(9)[::-1], feature_importance_df['Importance'].head(9)[::-1], color='skyblue')\n",
    "plt.xlabel('Importance')\n",
    "plt.title('Top 9 Important Features (Descending Order)')\n",
    "plt.show()\n"
   ]
  },
  {
   "cell_type": "code",
   "execution_count": 121,
   "id": "2551b7ff",
   "metadata": {},
   "outputs": [
    {
     "name": "stdout",
     "output_type": "stream",
     "text": [
      "              precision    recall  f1-score   support\n",
      "\n",
      "           0       0.82      0.90      0.86      1023\n",
      "           1       0.64      0.49      0.56       384\n",
      "\n",
      "    accuracy                           0.79      1407\n",
      "   macro avg       0.73      0.69      0.71      1407\n",
      "weighted avg       0.78      0.79      0.78      1407\n",
      "\n"
     ]
    }
   ],
   "source": [
    "print(classification_report(y_test, y_pred, labels=[0,1]))"
   ]
  },
  {
   "cell_type": "markdown",
   "id": "e3acad89",
   "metadata": {},
   "source": [
    "#### Data Overview and Split\n",
    "\n",
    "| Churn | Count | Percentage on Total |\n",
    "|-------|-------|----------------------|\n",
    "| No    | 5163  | 73%                  |\n",
    "| Yes   | 1869  | 27%                  |\n",
    "| Total | 7032  | 100%                 |\n",
    "| **Training Set Size** | **5625** | **80%** |\n",
    "| **Test Set Size** | **1407** | **20%** |\n",
    "\n",
    "\n",
    "\n",
    "**Summary:**\n",
    "- The dataset is imbalanced, with a larger number of instances for \"No\" (73%) compared to \"Yes\" (27%).\n",
    "- The training set comprises 80% of the total instances, and the test set comprises 20%.\n",
    "- The classification report shows the performance metrics of a model on the test set, indicating precision, recall, and F1-score for both classes (0 and 1).\n",
    "- The model seems to perform better for class 0 (precision: 0.82, recall: 0.90) compared to class 1 (precision: 0.64, recall: 0.49).\n",
    "- The overall accuracy of the model on the test set is 79%.\n",
    "\n"
   ]
  },
  {
   "cell_type": "markdown",
   "id": "d43f4921",
   "metadata": {},
   "source": [
    "**Recommendation:**\n",
    "By applying SMOTEENN to the training data, we aim to generate synthetic instances of the minority class, creating a more balanced dataset. This process helps the model learn more effectively from the minority class, improving its ability to make accurate predictions for both classes,especially in scenarios with imbalanced classes\n",
    "\n",
    "SMOTEENN can lead to a more robust and unbiased model.It is crucial to assess the model's performance on the test set after applying SMOTEENN to ensure improvements in both precision and recall for the minority class.\n",
    "\n",
    "Hence, moving ahead to call SMOTEENN (UpSampling + ENN)**\n"
   ]
  },
  {
   "cell_type": "markdown",
   "id": "a66e9bb2",
   "metadata": {},
   "source": [
    "## Evaluation of Decision Tree Model with SMOTEENN Resampling"
   ]
  },
  {
   "cell_type": "code",
   "execution_count": 122,
   "id": "715e65ee",
   "metadata": {},
   "outputs": [],
   "source": [
    "#!pip install -U imbalanced-learn"
   ]
  },
  {
   "cell_type": "code",
   "execution_count": 123,
   "id": "27d7b430",
   "metadata": {},
   "outputs": [],
   "source": [
    "sm = SMOTEENN()\n",
    "X_resampled, y_resampled = sm.fit_resample(X, y)"
   ]
  },
  {
   "cell_type": "code",
   "execution_count": 124,
   "id": "08986776",
   "metadata": {},
   "outputs": [],
   "source": [
    "Xr_train,Xr_test,yr_train,yr_test=train_test_split(X_resampled, y_resampled,test_size=0.2)"
   ]
  },
  {
   "cell_type": "code",
   "execution_count": 125,
   "id": "7a1e35c9",
   "metadata": {},
   "outputs": [],
   "source": [
    "model_dt_smote=DecisionTreeClassifier(criterion='entropy', max_depth=4, random_state=200)"
   ]
  },
  {
   "cell_type": "code",
   "execution_count": 126,
   "id": "2991e809",
   "metadata": {},
   "outputs": [
    {
     "data": {
      "text/html": [
       "<style>#sk-container-id-13 {color: black;}#sk-container-id-13 pre{padding: 0;}#sk-container-id-13 div.sk-toggleable {background-color: white;}#sk-container-id-13 label.sk-toggleable__label {cursor: pointer;display: block;width: 100%;margin-bottom: 0;padding: 0.3em;box-sizing: border-box;text-align: center;}#sk-container-id-13 label.sk-toggleable__label-arrow:before {content: \"▸\";float: left;margin-right: 0.25em;color: #696969;}#sk-container-id-13 label.sk-toggleable__label-arrow:hover:before {color: black;}#sk-container-id-13 div.sk-estimator:hover label.sk-toggleable__label-arrow:before {color: black;}#sk-container-id-13 div.sk-toggleable__content {max-height: 0;max-width: 0;overflow: hidden;text-align: left;background-color: #f0f8ff;}#sk-container-id-13 div.sk-toggleable__content pre {margin: 0.2em;color: black;border-radius: 0.25em;background-color: #f0f8ff;}#sk-container-id-13 input.sk-toggleable__control:checked~div.sk-toggleable__content {max-height: 200px;max-width: 100%;overflow: auto;}#sk-container-id-13 input.sk-toggleable__control:checked~label.sk-toggleable__label-arrow:before {content: \"▾\";}#sk-container-id-13 div.sk-estimator input.sk-toggleable__control:checked~label.sk-toggleable__label {background-color: #d4ebff;}#sk-container-id-13 div.sk-label input.sk-toggleable__control:checked~label.sk-toggleable__label {background-color: #d4ebff;}#sk-container-id-13 input.sk-hidden--visually {border: 0;clip: rect(1px 1px 1px 1px);clip: rect(1px, 1px, 1px, 1px);height: 1px;margin: -1px;overflow: hidden;padding: 0;position: absolute;width: 1px;}#sk-container-id-13 div.sk-estimator {font-family: monospace;background-color: #f0f8ff;border: 1px dotted black;border-radius: 0.25em;box-sizing: border-box;margin-bottom: 0.5em;}#sk-container-id-13 div.sk-estimator:hover {background-color: #d4ebff;}#sk-container-id-13 div.sk-parallel-item::after {content: \"\";width: 100%;border-bottom: 1px solid gray;flex-grow: 1;}#sk-container-id-13 div.sk-label:hover label.sk-toggleable__label {background-color: #d4ebff;}#sk-container-id-13 div.sk-serial::before {content: \"\";position: absolute;border-left: 1px solid gray;box-sizing: border-box;top: 0;bottom: 0;left: 50%;z-index: 0;}#sk-container-id-13 div.sk-serial {display: flex;flex-direction: column;align-items: center;background-color: white;padding-right: 0.2em;padding-left: 0.2em;position: relative;}#sk-container-id-13 div.sk-item {position: relative;z-index: 1;}#sk-container-id-13 div.sk-parallel {display: flex;align-items: stretch;justify-content: center;background-color: white;position: relative;}#sk-container-id-13 div.sk-item::before, #sk-container-id-13 div.sk-parallel-item::before {content: \"\";position: absolute;border-left: 1px solid gray;box-sizing: border-box;top: 0;bottom: 0;left: 50%;z-index: -1;}#sk-container-id-13 div.sk-parallel-item {display: flex;flex-direction: column;z-index: 1;position: relative;background-color: white;}#sk-container-id-13 div.sk-parallel-item:first-child::after {align-self: flex-end;width: 50%;}#sk-container-id-13 div.sk-parallel-item:last-child::after {align-self: flex-start;width: 50%;}#sk-container-id-13 div.sk-parallel-item:only-child::after {width: 0;}#sk-container-id-13 div.sk-dashed-wrapped {border: 1px dashed gray;margin: 0 0.4em 0.5em 0.4em;box-sizing: border-box;padding-bottom: 0.4em;background-color: white;}#sk-container-id-13 div.sk-label label {font-family: monospace;font-weight: bold;display: inline-block;line-height: 1.2em;}#sk-container-id-13 div.sk-label-container {text-align: center;}#sk-container-id-13 div.sk-container {/* jupyter's `normalize.less` sets `[hidden] { display: none; }` but bootstrap.min.css set `[hidden] { display: none !important; }` so we also need the `!important` here to be able to override the default hidden behavior on the sphinx rendered scikit-learn.org. See: https://github.com/scikit-learn/scikit-learn/issues/21755 */display: inline-block !important;position: relative;}#sk-container-id-13 div.sk-text-repr-fallback {display: none;}</style><div id=\"sk-container-id-13\" class=\"sk-top-container\"><div class=\"sk-text-repr-fallback\"><pre>DecisionTreeClassifier(criterion=&#x27;entropy&#x27;, max_depth=4, random_state=200)</pre><b>In a Jupyter environment, please rerun this cell to show the HTML representation or trust the notebook. <br />On GitHub, the HTML representation is unable to render, please try loading this page with nbviewer.org.</b></div><div class=\"sk-container\" hidden><div class=\"sk-item\"><div class=\"sk-estimator sk-toggleable\"><input class=\"sk-toggleable__control sk-hidden--visually\" id=\"sk-estimator-id-19\" type=\"checkbox\" checked><label for=\"sk-estimator-id-19\" class=\"sk-toggleable__label sk-toggleable__label-arrow\">DecisionTreeClassifier</label><div class=\"sk-toggleable__content\"><pre>DecisionTreeClassifier(criterion=&#x27;entropy&#x27;, max_depth=4, random_state=200)</pre></div></div></div></div></div>"
      ],
      "text/plain": [
       "DecisionTreeClassifier(criterion='entropy', max_depth=4, random_state=200)"
      ]
     },
     "execution_count": 126,
     "metadata": {},
     "output_type": "execute_result"
    }
   ],
   "source": [
    "model_dt_smote.fit(Xr_train,yr_train)"
   ]
  },
  {
   "cell_type": "code",
   "execution_count": 127,
   "id": "2e7b2334",
   "metadata": {},
   "outputs": [],
   "source": [
    "yr_predict = model_dt_smote.predict(Xr_test)"
   ]
  },
  {
   "cell_type": "code",
   "execution_count": 128,
   "id": "88a70fa9",
   "metadata": {},
   "outputs": [],
   "source": [
    "model_score_r = model_dt_smote.score(Xr_test, yr_test)"
   ]
  },
  {
   "cell_type": "code",
   "execution_count": 129,
   "id": "2b623bc0",
   "metadata": {},
   "outputs": [
    {
     "name": "stdout",
     "output_type": "stream",
     "text": [
      "0.9179357021996616\n"
     ]
    }
   ],
   "source": [
    "print(model_score_r)"
   ]
  },
  {
   "cell_type": "code",
   "execution_count": 130,
   "id": "5d030c1e",
   "metadata": {},
   "outputs": [
    {
     "name": "stdout",
     "output_type": "stream",
     "text": [
      "              precision    recall  f1-score   support\n",
      "\n",
      "           0       0.89      0.93      0.91       524\n",
      "           1       0.94      0.91      0.92       658\n",
      "\n",
      "    accuracy                           0.92      1182\n",
      "   macro avg       0.92      0.92      0.92      1182\n",
      "weighted avg       0.92      0.92      0.92      1182\n",
      "\n"
     ]
    }
   ],
   "source": [
    "print(metrics.classification_report(yr_test, yr_predict))"
   ]
  },
  {
   "cell_type": "code",
   "execution_count": 131,
   "id": "ae8c791d",
   "metadata": {},
   "outputs": [
    {
     "name": "stdout",
     "output_type": "stream",
     "text": [
      "[[487  37]\n",
      " [ 60 598]]\n"
     ]
    }
   ],
   "source": [
    "print(metrics.confusion_matrix(yr_test, yr_predict))"
   ]
  },
  {
   "cell_type": "code",
   "execution_count": 132,
   "id": "809f5be0",
   "metadata": {},
   "outputs": [
    {
     "data": {
      "image/png": "[encoded data removed]",
      "text/plain": [
       "<Figure size 640x480 with 1 Axes>"
      ]
     },
     "metadata": {},
     "output_type": "display_data"
    }
   ],
   "source": [
    "import seaborn as sns\n",
    "import matplotlib.pyplot as plt\n",
    "from sklearn import metrics\n",
    "\n",
    "# Replace yr_test and yr_predict with your actual test and predicted labels\n",
    "cm = metrics.confusion_matrix(yr_test, yr_predict)\n",
    "\n",
    "# Define a custom color map\n",
    "cmap_custom = sns.diverging_palette(220, 20, as_cmap=True)\n",
    "\n",
    "# Create a heatmap with the custom color map\n",
    "sns.heatmap(cm, annot=True, fmt='d', cmap=cmap_custom, cbar=False,\n",
    "            xticklabels=['Predicted 0', 'Predicted 1'],\n",
    "            yticklabels=['Actual 0', 'Actual 1'])\n",
    "\n",
    "plt.xlabel('Predicted Label')\n",
    "plt.ylabel('True Label')\n",
    "plt.title('Confusion Matrix')\n",
    "plt.show()\n"
   ]
  },
  {
   "cell_type": "markdown",
   "id": "18bbf110",
   "metadata": {},
   "source": [
    "![image.png](https://builtin.com/sites/www.builtin.com/files/styles/ckeditor_optimize/public/inline-images/8_confusion-matrix-python.jpg)"
   ]
  },
  {
   "cell_type": "markdown",
   "id": "218b706c",
   "metadata": {},
   "source": [
    "- True Positive (TP): 548\n",
    "- False Positive (FP): 29\n",
    "- True Negative (TN): 515\n",
    "- False Negative (FN): 75\n",
    "\n",
    "The confusion matrix suggests that the model is performing well, with a relatively low number of false positives and false negatives.\n",
    "- Now we can see quite better results, i.e. Accuracy: 91 %, and a very good recall, precision & f1 score for minority class."
   ]
  },
  {
   "cell_type": "markdown",
   "id": "1199d322",
   "metadata": {},
   "source": [
    "### Generating ROC Curve for Decision Tree with SMOTEENN Resampling"
   ]
  },
  {
   "cell_type": "code",
   "execution_count": 133,
   "id": "6f196752",
   "metadata": {},
   "outputs": [
    {
     "data": {
      "image/png": "[encoded data removed]",
      "text/plain": [
       "<Figure size 800x600 with 1 Axes>"
      ]
     },
     "metadata": {},
     "output_type": "display_data"
    }
   ],
   "source": [
    "from sklearn.tree import DecisionTreeClassifier\n",
    "from sklearn.model_selection import train_test_split\n",
    "from sklearn.metrics import roc_curve, auc\n",
    "import matplotlib.pyplot as plt\n",
    "from imblearn.combine import SMOTEENN\n",
    "\n",
    "# Assuming you have your data in X and y\n",
    "sm = SMOTEENN()\n",
    "X_resampled, y_resampled = sm.fit_resample(X, y)\n",
    "Xr_train, Xr_test, yr_train, yr_test = train_test_split(X_resampled, y_resampled, test_size=0.2)\n",
    "\n",
    "model_dt_smote = DecisionTreeClassifier(criterion='entropy', max_depth=4, random_state=200)\n",
    "model_dt_smote.fit(Xr_train, yr_train)\n",
    "\n",
    "# Predict probabilities for positive class\n",
    "yr_probs = model_dt_smote.predict_proba(Xr_test)[:, 1]\n",
    "\n",
    "# Calculate ROC curve\n",
    "fpr, tpr, thresholds = roc_curve(yr_test, yr_probs)\n",
    "\n",
    "# Calculate AUC\n",
    "roc_auc = auc(fpr, tpr)\n",
    "\n",
    "# Plot ROC curve\n",
    "plt.figure(figsize=(8, 6))\n",
    "plt.plot(fpr, tpr, color='darkorange', lw=2, label='ROC curve (AUC = {:.2f})'.format(roc_auc))\n",
    "plt.plot([0, 1], [0, 1], color='navy', lw=2, linestyle='--', label='Random Guess')\n",
    "plt.xlabel('False Positive Rate')\n",
    "plt.ylabel('True Positive Rate')\n",
    "plt.title('Receiver Operating Characteristic (ROC) Curve')\n",
    "plt.legend(loc='lower right')\n",
    "\n",
    "# Display AUC score\n",
    "plt.text(0.6, 0.2, 'AUC = {:.2f}'.format(roc_auc), fontsize=12)\n",
    "\n",
    "plt.show()\n"
   ]
  },
  {
   "cell_type": "markdown",
   "id": "3c4c9264",
   "metadata": {},
   "source": [
    " - **\"In summary, our model exhibits strong performance across various evaluation metrics. With a precision of 0.87 and 0.95 for classes 0 and 1, respectively, it accurately identifies instances of both classes. The corresponding recall values of 0.95 and 0.88 highlight the model's ability to capture a high proportion of actual instances for each class. The balanced F1-scores of 0.91 for both classes further emphasize the model's overall effectiveness.\n",
    "\n",
    " - **The model achieves an impressive accuracy of 91%, showcasing its correctness in predictions across all classes. Additionally, the ROC curve analysis demonstrates excellent discrimination performance, visually confirmed by an AUC value of 0.97. This high AUC indicates the model's robust ability to distinguish between positive and negative instances, further validating its effectiveness in classification tasks.\""
   ]
  },
  {
   "cell_type": "markdown",
   "id": "f063f879",
   "metadata": {},
   "source": [
    "## Random Forest Classifier"
   ]
  },
  {
   "cell_type": "code",
   "execution_count": 134,
   "id": "6b45dcff",
   "metadata": {},
   "outputs": [],
   "source": [
    "from sklearn.ensemble import RandomForestClassifier"
   ]
  },
  {
   "cell_type": "code",
   "execution_count": null,
   "id": "d6d46eef",
   "metadata": {},
   "outputs": [],
   "source": [
    "model_rf = RandomForestClassifier(n_estimators=3, random_state=42, max_depth=2)"
   ]
  },
  {
   "cell_type": "code",
   "execution_count": null,
   "id": "30a5df9b",
   "metadata": {},
   "outputs": [],
   "source": [
    "model_rf.fit(X_train,y_train)"
   ]
  },
  {
   "cell_type": "code",
   "execution_count": null,
   "id": "94973b4b",
   "metadata": {},
   "outputs": [],
   "source": [
    "y_pred=model_rf.predict(X_test)\n",
    "y_pred #predit classes of test data set"
   ]
  },
  {
   "cell_type": "code",
   "execution_count": null,
   "id": "39bad3ff",
   "metadata": {},
   "outputs": [],
   "source": [
    "y_test"
   ]
  },
  {
   "cell_type": "code",
   "execution_count": null,
   "id": "024a33ab",
   "metadata": {},
   "outputs": [],
   "source": [
    "model_rf.score(X_test,y_test)"
   ]
  },
  {
   "cell_type": "code",
   "execution_count": null,
   "id": "dcb75900",
   "metadata": {},
   "outputs": [],
   "source": [
    "# Create confusion matrix\n",
    "from sklearn.metrics import classification_report, confusion_matrix, ConfusionMatrixDisplay\n",
    "cm = confusion_matrix(y_test, y_pred)\n",
    "sns.heatmap(cm, annot=True, fmt='d').set_title(\"confusion matrix\")\n",
    "print(classification_report(y_test, y_pred))\n",
    "xticklabels=[\"Predicted 0\", \"Predicted 1\"]\n",
    "yticklabels=[\"Actual 0\", \"Actual 1\"]\n",
    "plt.xlabel(\"Predicted label\")\n",
    "plt.ylabel(\"True label\")\n",
    "plt.title(\"Confusion Matrix\")\n",
    "plt.show()"
   ]
  },
  {
   "cell_type": "code",
   "execution_count": null,
   "id": "275c42f6",
   "metadata": {},
   "outputs": [],
   "source": [
    "# In random forest classifier we are building 3 trees, let's visualize each of the three trees \n",
    "# Import tree module \n",
    "from sklearn import tree \n",
    "\n",
    "features = X.columns.values \n",
    "print(features)\n",
    "classes = ['0','1',]\n",
    "classes = ['No Churn','Churn']\n",
    "print(classes)"
   ]
  },
  {
   "cell_type": "code",
   "execution_count": null,
   "id": "eaf5bfdb",
   "metadata": {},
   "outputs": [],
   "source": [
    "from sklearn.ensemble import RandomForestClassifier\n",
    "rfc = RandomForestClassifier(n_estimators=3, max_depth=2, random_state=42)\n",
    "rfc.fit(X_train, y_train)"
   ]
  },
  {
   "cell_type": "code",
   "execution_count": null,
   "id": "8578931d",
   "metadata": {},
   "outputs": [],
   "source": [
    "rfc.estimators_"
   ]
  },
  {
   "cell_type": "code",
   "execution_count": null,
   "id": "997f20b1",
   "metadata": {},
   "outputs": [],
   "source": [
    "rfc.estimators_[0]"
   ]
  },
  {
   "cell_type": "code",
   "execution_count": null,
   "id": "e517a7d6",
   "metadata": {},
   "outputs": [],
   "source": [
    "# First tree of random forest classifier \n",
    "plt.figure(figsize=(10, 8))\n",
    "tree.plot_tree(rfc.estimators_[0], feature_names=features, class_names=classes)"
   ]
  },
  {
   "cell_type": "code",
   "execution_count": null,
   "id": "0d70b87e",
   "metadata": {},
   "outputs": [],
   "source": [
    "# second tree of random forest classifier \n",
    "plt.figure(figsize=(10, 8))\n",
    "tree.plot_tree(rfc.estimators_[1], feature_names=features, class_names=classes)"
   ]
  },
  {
   "cell_type": "code",
   "execution_count": null,
   "id": "659b1ab2",
   "metadata": {},
   "outputs": [],
   "source": [
    "# third tree of random forest classifier \n",
    "plt.figure(figsize=(10, 8))\n",
    "tree.plot_tree(rfc.estimators_[2], feature_names=features, class_names=classes)"
   ]
  },
  {
   "cell_type": "code",
   "execution_count": null,
   "id": "089bbb04",
   "metadata": {},
   "outputs": [],
   "source": [
    "# To display all the decision trees of a random forest model\n",
    "\n",
    "for estimators in rfc.estimators_:\n",
    "    plt.figure(figsize=(20, 15))\n",
    "    print(estimators)\n",
    "    tree.plot_tree(estimators, feature_names=features, class_names=classes)\n",
    "    plt.show()"
   ]
  },
  {
   "cell_type": "code",
   "execution_count": null,
   "id": "2d2bbfca",
   "metadata": {},
   "outputs": [],
   "source": [
    "# Organize important features of RF classifier \n",
    "print(rfc.feature_importances_)\n",
    "print(rfc.feature_names_in_)"
   ]
  },
  {
   "cell_type": "code",
   "execution_count": null,
   "id": "0a58f25f",
   "metadata": {},
   "outputs": [],
   "source": [
    "feature_df = pd.DataFrame({'features':rfc.feature_names_in_, 'importances':rfc.feature_importances_})\n",
    "feature_df\n",
    "\n",
    "feature_df = feature_df.sort_values(by=\"importances\", ascending=False)\n",
    "feature_df"
   ]
  },
  {
   "cell_type": "code",
   "execution_count": null,
   "id": "82a3a8c4",
   "metadata": {},
   "outputs": [],
   "source": [
    "plt.figure(figsize=(12, 8))  # Adjust the figsize as needed\n",
    "sns.barplot(data=feature_df, x=\"importances\", y=\"features\")\n",
    "plt.show()"
   ]
  },
  {
   "cell_type": "markdown",
   "id": "d6b23a52",
   "metadata": {},
   "source": [
    "## How to find out correct set of hyperparameters in Random Forest classifier"
   ]
  },
  {
   "cell_type": "code",
   "execution_count": null,
   "id": "3b952b09",
   "metadata": {},
   "outputs": [],
   "source": [
    "# n_estimators \n",
    "# max_depth \n",
    "# criertion \n",
    "# max_features \n",
    "from scipy.stats import randint \n",
    "\n",
    "param = { 'n_estimators': randint(50, 500),\n",
    "          'max_depth' : randint (1,50), \n",
    "          'criterion': ['gini', 'entropy'],\n",
    "          #'max_features' : [3,4,5,6,7]}\n",
    "         'max_features' : ['auto', 'sqrt', 'log2', None]}\n",
    "\n",
    "# Max_features\n",
    "# Auto:- sqrt(feature_count)\n",
    "# sqrt:- sqrt(feature_count)\n",
    "# log2:- log2(feature_count)\n",
    "# None:- all the features in all the trees ( same as bagging classifier )\n",
    "\n",
    "# create a random forest classifier \n",
    "rf = RandomForestClassifier()\n",
    "\n",
    "# Try all possible cominations from the param set \n",
    "rand_search = RandomizedSearchCV( rf, param_distributions= param, n_iter=5, cv =5 )\n",
    "\n",
    "rand_search.fit(X_train, y_train)"
   ]
  },
  {
   "cell_type": "code",
   "execution_count": null,
   "id": "29c66fe6",
   "metadata": {},
   "outputs": [],
   "source": [
    "# display the the best model \n",
    "best_rf = rand_search.best_estimator_ \n",
    "\n",
    "print( \" Best Hyperparameters\", rand_search.best_params_ )"
   ]
  },
  {
   "cell_type": "code",
   "execution_count": null,
   "id": "91b769fc",
   "metadata": {},
   "outputs": [],
   "source": [
    "# generate prediction with this best model \n",
    "y_pred = best_rf.predict(X_test)"
   ]
  },
  {
   "cell_type": "code",
   "execution_count": null,
   "id": "56db3ae2",
   "metadata": {},
   "outputs": [],
   "source": [
    "y_pred"
   ]
  },
  {
   "cell_type": "code",
   "execution_count": null,
   "id": "34419e2d",
   "metadata": {},
   "outputs": [],
   "source": [
    "# Create confusion matrix from the best model \n",
    "cm = confusion_matrix(y_test, y_pred)\n",
    "ConfusionMatrixDisplay(confusion_matrix=cm).plot()"
   ]
  },
  {
   "cell_type": "code",
   "execution_count": null,
   "id": "e9a95f21",
   "metadata": {},
   "outputs": [],
   "source": [
    "print(classification_report(y_test, y_pred))"
   ]
  },
  {
   "cell_type": "code",
   "execution_count": null,
   "id": "2847cab9",
   "metadata": {},
   "outputs": [],
   "source": []
  },
  {
   "cell_type": "markdown",
   "id": "ca49838f",
   "metadata": {},
   "source": [
    "## Random Forest Classifier with SMOTEENN"
   ]
  },
  {
   "cell_type": "code",
   "execution_count": null,
   "id": "e4f8134c",
   "metadata": {},
   "outputs": [],
   "source": [
    "sm = SMOTEENN()"
   ]
  },
  {
   "cell_type": "code",
   "execution_count": null,
   "id": "3b44fc43",
   "metadata": {},
   "outputs": [],
   "source": [
    "X_resampled1, y_resampled1 = sm.fit_resample(X, y)\n"
   ]
  },
  {
   "cell_type": "code",
   "execution_count": null,
   "id": "7564d7cc",
   "metadata": {},
   "outputs": [],
   "source": [
    "Xr_train1,Xr_test1,yr_train1,yr_test1=train_test_split(X_resampled1, y_resampled1,test_size=0.2)"
   ]
  },
  {
   "cell_type": "code",
   "execution_count": null,
   "id": "f7ea24e8",
   "metadata": {},
   "outputs": [],
   "source": [
    "model_rf_smote=RandomForestClassifier(n_estimators=341, criterion='gini', random_state = 100,max_depth=11 )"
   ]
  },
  {
   "cell_type": "code",
   "execution_count": null,
   "id": "d38b5c13",
   "metadata": {},
   "outputs": [],
   "source": [
    "model_rf_smote.fit(Xr_train1,yr_train1)"
   ]
  },
  {
   "cell_type": "code",
   "execution_count": null,
   "id": "643eefc9",
   "metadata": {},
   "outputs": [],
   "source": [
    "yr_predict1 = model_rf_smote.predict(Xr_test1)"
   ]
  },
  {
   "cell_type": "code",
   "execution_count": null,
   "id": "0415cefd",
   "metadata": {},
   "outputs": [],
   "source": [
    "model_score_r1 = model_rf_smote.score(Xr_test1, yr_test1)"
   ]
  },
  {
   "cell_type": "code",
   "execution_count": null,
   "id": "b0f3aeac",
   "metadata": {},
   "outputs": [],
   "source": [
    "print(model_score_r1)"
   ]
  },
  {
   "cell_type": "code",
   "execution_count": null,
   "id": "c6dcfa42",
   "metadata": {},
   "outputs": [],
   "source": [
    "print(metrics.classification_report(yr_test1, yr_predict1))"
   ]
  },
  {
   "cell_type": "code",
   "execution_count": null,
   "id": "6b1a67d6",
   "metadata": {},
   "outputs": [],
   "source": [
    "print(metrics.confusion_matrix(yr_test1, yr_predict1))"
   ]
  },
  {
   "cell_type": "markdown",
   "id": "156483c1",
   "metadata": {},
   "source": [
    "  **With RF Classifier, also we are able to get quite good results, infact better than Decision Tree.**"
   ]
  },
  {
   "cell_type": "code",
   "execution_count": null,
   "id": "ba515a41",
   "metadata": {},
   "outputs": [],
   "source": []
  },
  {
   "cell_type": "code",
   "execution_count": null,
   "id": "a6c032f5",
   "metadata": {},
   "outputs": [],
   "source": []
  },
  {
   "cell_type": "markdown",
   "id": "1c2ce90c",
   "metadata": {},
   "source": [
    "## Bagging Classifier"
   ]
  },
  {
   "cell_type": "code",
   "execution_count": 135,
   "id": "9881ea77",
   "metadata": {},
   "outputs": [],
   "source": [
    "# Time to build the bagging classifier \n",
    "from sklearn.ensemble import BaggingClassifier # What type of ensemble you want to create \n",
    "from sklearn.tree import DecisionTreeClassifier # this will be the base learner for ensemble "
   ]
  },
  {
   "cell_type": "code",
   "execution_count": 136,
   "id": "368f1dbf",
   "metadata": {},
   "outputs": [],
   "source": [
    "# Initialize the ensemble model \n",
    "model_bc = BaggingClassifier(oob_score=True, n_estimators=20, random_state=300, base_estimator=DecisionTreeClassifier())\n",
    "\n",
    "# oob_score - will display oob_error or oob_accuracy of each tree \n",
    "# n_estimators - 20 classification trees "
   ]
  },
  {
   "cell_type": "code",
   "execution_count": 137,
   "id": "d1b981c6",
   "metadata": {},
   "outputs": [
    {
     "name": "stderr",
     "output_type": "stream",
     "text": [
      "C:\\Users\\Dell\\AppData\\Roaming\\Python\\Python311\\site-packages\\sklearn\\ensemble\\_base.py:156: FutureWarning: `base_estimator` was renamed to `estimator` in version 1.2 and will be removed in 1.4.\n",
      "  warnings.warn(\n"
     ]
    },
    {
     "data": {
      "text/html": [
       "<style>#sk-container-id-14 {color: black;}#sk-container-id-14 pre{padding: 0;}#sk-container-id-14 div.sk-toggleable {background-color: white;}#sk-container-id-14 label.sk-toggleable__label {cursor: pointer;display: block;width: 100%;margin-bottom: 0;padding: 0.3em;box-sizing: border-box;text-align: center;}#sk-container-id-14 label.sk-toggleable__label-arrow:before {content: \"▸\";float: left;margin-right: 0.25em;color: #696969;}#sk-container-id-14 label.sk-toggleable__label-arrow:hover:before {color: black;}#sk-container-id-14 div.sk-estimator:hover label.sk-toggleable__label-arrow:before {color: black;}#sk-container-id-14 div.sk-toggleable__content {max-height: 0;max-width: 0;overflow: hidden;text-align: left;background-color: #f0f8ff;}#sk-container-id-14 div.sk-toggleable__content pre {margin: 0.2em;color: black;border-radius: 0.25em;background-color: #f0f8ff;}#sk-container-id-14 input.sk-toggleable__control:checked~div.sk-toggleable__content {max-height: 200px;max-width: 100%;overflow: auto;}#sk-container-id-14 input.sk-toggleable__control:checked~label.sk-toggleable__label-arrow:before {content: \"▾\";}#sk-container-id-14 div.sk-estimator input.sk-toggleable__control:checked~label.sk-toggleable__label {background-color: #d4ebff;}#sk-container-id-14 div.sk-label input.sk-toggleable__control:checked~label.sk-toggleable__label {background-color: #d4ebff;}#sk-container-id-14 input.sk-hidden--visually {border: 0;clip: rect(1px 1px 1px 1px);clip: rect(1px, 1px, 1px, 1px);height: 1px;margin: -1px;overflow: hidden;padding: 0;position: absolute;width: 1px;}#sk-container-id-14 div.sk-estimator {font-family: monospace;background-color: #f0f8ff;border: 1px dotted black;border-radius: 0.25em;box-sizing: border-box;margin-bottom: 0.5em;}#sk-container-id-14 div.sk-estimator:hover {background-color: #d4ebff;}#sk-container-id-14 div.sk-parallel-item::after {content: \"\";width: 100%;border-bottom: 1px solid gray;flex-grow: 1;}#sk-container-id-14 div.sk-label:hover label.sk-toggleable__label {background-color: #d4ebff;}#sk-container-id-14 div.sk-serial::before {content: \"\";position: absolute;border-left: 1px solid gray;box-sizing: border-box;top: 0;bottom: 0;left: 50%;z-index: 0;}#sk-container-id-14 div.sk-serial {display: flex;flex-direction: column;align-items: center;background-color: white;padding-right: 0.2em;padding-left: 0.2em;position: relative;}#sk-container-id-14 div.sk-item {position: relative;z-index: 1;}#sk-container-id-14 div.sk-parallel {display: flex;align-items: stretch;justify-content: center;background-color: white;position: relative;}#sk-container-id-14 div.sk-item::before, #sk-container-id-14 div.sk-parallel-item::before {content: \"\";position: absolute;border-left: 1px solid gray;box-sizing: border-box;top: 0;bottom: 0;left: 50%;z-index: -1;}#sk-container-id-14 div.sk-parallel-item {display: flex;flex-direction: column;z-index: 1;position: relative;background-color: white;}#sk-container-id-14 div.sk-parallel-item:first-child::after {align-self: flex-end;width: 50%;}#sk-container-id-14 div.sk-parallel-item:last-child::after {align-self: flex-start;width: 50%;}#sk-container-id-14 div.sk-parallel-item:only-child::after {width: 0;}#sk-container-id-14 div.sk-dashed-wrapped {border: 1px dashed gray;margin: 0 0.4em 0.5em 0.4em;box-sizing: border-box;padding-bottom: 0.4em;background-color: white;}#sk-container-id-14 div.sk-label label {font-family: monospace;font-weight: bold;display: inline-block;line-height: 1.2em;}#sk-container-id-14 div.sk-label-container {text-align: center;}#sk-container-id-14 div.sk-container {/* jupyter's `normalize.less` sets `[hidden] { display: none; }` but bootstrap.min.css set `[hidden] { display: none !important; }` so we also need the `!important` here to be able to override the default hidden behavior on the sphinx rendered scikit-learn.org. See: https://github.com/scikit-learn/scikit-learn/issues/21755 */display: inline-block !important;position: relative;}#sk-container-id-14 div.sk-text-repr-fallback {display: none;}</style><div id=\"sk-container-id-14\" class=\"sk-top-container\"><div class=\"sk-text-repr-fallback\"><pre>BaggingClassifier(base_estimator=DecisionTreeClassifier(), n_estimators=20,\n",
       "                  oob_score=True, random_state=300)</pre><b>In a Jupyter environment, please rerun this cell to show the HTML representation or trust the notebook. <br />On GitHub, the HTML representation is unable to render, please try loading this page with nbviewer.org.</b></div><div class=\"sk-container\" hidden><div class=\"sk-item sk-dashed-wrapped\"><div class=\"sk-label-container\"><div class=\"sk-label sk-toggleable\"><input class=\"sk-toggleable__control sk-hidden--visually\" id=\"sk-estimator-id-20\" type=\"checkbox\" ><label for=\"sk-estimator-id-20\" class=\"sk-toggleable__label sk-toggleable__label-arrow\">BaggingClassifier</label><div class=\"sk-toggleable__content\"><pre>BaggingClassifier(base_estimator=DecisionTreeClassifier(), n_estimators=20,\n",
       "                  oob_score=True, random_state=300)</pre></div></div></div><div class=\"sk-parallel\"><div class=\"sk-parallel-item\"><div class=\"sk-item\"><div class=\"sk-label-container\"><div class=\"sk-label sk-toggleable\"><input class=\"sk-toggleable__control sk-hidden--visually\" id=\"sk-estimator-id-21\" type=\"checkbox\" ><label for=\"sk-estimator-id-21\" class=\"sk-toggleable__label sk-toggleable__label-arrow\">base_estimator: DecisionTreeClassifier</label><div class=\"sk-toggleable__content\"><pre>DecisionTreeClassifier()</pre></div></div></div><div class=\"sk-serial\"><div class=\"sk-item\"><div class=\"sk-estimator sk-toggleable\"><input class=\"sk-toggleable__control sk-hidden--visually\" id=\"sk-estimator-id-22\" type=\"checkbox\" ><label for=\"sk-estimator-id-22\" class=\"sk-toggleable__label sk-toggleable__label-arrow\">DecisionTreeClassifier</label><div class=\"sk-toggleable__content\"><pre>DecisionTreeClassifier()</pre></div></div></div></div></div></div></div></div></div></div>"
      ],
      "text/plain": [
       "BaggingClassifier(base_estimator=DecisionTreeClassifier(), n_estimators=20,\n",
       "                  oob_score=True, random_state=300)"
      ]
     },
     "execution_count": 137,
     "metadata": {},
     "output_type": "execute_result"
    }
   ],
   "source": [
    "# Let's try to put training feature set and training labels to the model = Model training \n",
    "model_bc.fit (X_train, y_train)"
   ]
  },
  {
   "cell_type": "code",
   "execution_count": 138,
   "id": "5d640f5b",
   "metadata": {},
   "outputs": [
    {
     "data": {
      "text/plain": [
       "True"
      ]
     },
     "execution_count": 138,
     "metadata": {},
     "output_type": "execute_result"
    }
   ],
   "source": [
    "model_bc.oob_score"
   ]
  },
  {
   "cell_type": "code",
   "execution_count": 139,
   "id": "32f69b0d",
   "metadata": {},
   "outputs": [
    {
     "data": {
      "text/plain": [
       "0.7717333333333334"
      ]
     },
     "execution_count": 139,
     "metadata": {},
     "output_type": "execute_result"
    }
   ],
   "source": [
    "model_bc.oob_score_   # Average accuracy on the out sample on training data set/Cummulative Accuracy of bagging classifier on out of bag sample/"
   ]
  },
  {
   "cell_type": "code",
   "execution_count": 140,
   "id": "a0ecfec0",
   "metadata": {},
   "outputs": [
    {
     "data": {
      "text/plain": [
       "0.7782515991471215"
      ]
     },
     "execution_count": 140,
     "metadata": {},
     "output_type": "execute_result"
    }
   ],
   "source": [
    "model_bc.score(X_test, y_test)  # Accuracy on test data set "
   ]
  },
  {
   "cell_type": "code",
   "execution_count": 142,
   "id": "800d5b4b",
   "metadata": {},
   "outputs": [
    {
     "name": "stderr",
     "output_type": "stream",
     "text": [
      "C:\\Users\\Dell\\AppData\\Roaming\\Python\\Python311\\site-packages\\sklearn\\ensemble\\_base.py:156: FutureWarning: `base_estimator` was renamed to `estimator` in version 1.2 and will be removed in 1.4.\n",
      "  warnings.warn(\n",
      "C:\\Users\\Dell\\AppData\\Roaming\\Python\\Python311\\site-packages\\sklearn\\ensemble\\_bagging.py:789: UserWarning: Some inputs do not have OOB scores. This probably means too few estimators were used to compute any reliable oob estimates.\n",
      "  warn(\n",
      "C:\\Users\\Dell\\AppData\\Roaming\\Python\\Python311\\site-packages\\sklearn\\ensemble\\_bagging.py:795: RuntimeWarning: invalid value encountered in divide\n",
      "  oob_decision_function = predictions / predictions.sum(axis=1)[:, np.newaxis]\n"
     ]
    },
    {
     "data": {
      "text/plain": [
       "0.7564444444444445"
      ]
     },
     "execution_count": 142,
     "metadata": {},
     "output_type": "execute_result"
    }
   ],
   "source": [
    "# Trying to find out the best number of trees/estimators/base learner for the bagging model \n",
    "# Experiment with 10 trees \n",
    "model_bc = BaggingClassifier(oob_score=True, n_estimators=10, random_state=300, base_estimator=DecisionTreeClassifier())\n",
    "model_bc.fit(X_train, y_train)\n",
    "oob = model_bc.oob_score_  # Corrected variable name\n",
    "oob"
   ]
  },
  {
   "cell_type": "code",
   "execution_count": 143,
   "id": "7c41992c",
   "metadata": {},
   "outputs": [
    {
     "data": {
      "text/plain": [
       "0.775408670931059"
      ]
     },
     "execution_count": 143,
     "metadata": {},
     "output_type": "execute_result"
    }
   ],
   "source": [
    "model_bc.score(X_test, y_test) # Accuracy on test data set for 10tree ."
   ]
  },
  {
   "cell_type": "code",
   "execution_count": 145,
   "id": "da13826f",
   "metadata": {},
   "outputs": [
    {
     "name": "stderr",
     "output_type": "stream",
     "text": [
      "C:\\Users\\Dell\\AppData\\Roaming\\Python\\Python311\\site-packages\\sklearn\\ensemble\\_base.py:156: FutureWarning: `base_estimator` was renamed to `estimator` in version 1.2 and will be removed in 1.4.\n",
      "  warnings.warn(\n",
      "C:\\Users\\Dell\\AppData\\Roaming\\Python\\Python311\\site-packages\\sklearn\\ensemble\\_bagging.py:789: UserWarning: Some inputs do not have OOB scores. This probably means too few estimators were used to compute any reliable oob estimates.\n",
      "  warn(\n",
      "C:\\Users\\Dell\\AppData\\Roaming\\Python\\Python311\\site-packages\\sklearn\\ensemble\\_bagging.py:795: RuntimeWarning: invalid value encountered in divide\n",
      "  oob_decision_function = predictions / predictions.sum(axis=1)[:, np.newaxis]\n"
     ]
    },
    {
     "data": {
      "text/plain": [
       "0.7692444444444444"
      ]
     },
     "execution_count": 145,
     "metadata": {},
     "output_type": "execute_result"
    }
   ],
   "source": [
    "# Trying to find out the best number of trees/estimators/base learner for the bagging model \n",
    "# Experiment with 15 trees \n",
    "model_bc = BaggingClassifier(oob_score=True, n_estimators=15, random_state=300, base_estimator=DecisionTreeClassifier())\n",
    "model_bc.fit(X_train, y_train)\n",
    "oob = model_bc.oob_score_  # Corrected variable name\n",
    "oob"
   ]
  },
  {
   "cell_type": "code",
   "execution_count": 146,
   "id": "73201400",
   "metadata": {},
   "outputs": [
    {
     "data": {
      "text/plain": [
       "0.7796730632551528"
      ]
     },
     "execution_count": 146,
     "metadata": {},
     "output_type": "execute_result"
    }
   ],
   "source": [
    "model_bc.score(X_test, y_test) # Accuracy on test data set for 15tree ."
   ]
  },
  {
   "cell_type": "code",
   "execution_count": 148,
   "id": "ca15c613",
   "metadata": {},
   "outputs": [
    {
     "name": "stderr",
     "output_type": "stream",
     "text": [
      "C:\\Users\\Dell\\AppData\\Roaming\\Python\\Python311\\site-packages\\sklearn\\ensemble\\_base.py:156: FutureWarning: `base_estimator` was renamed to `estimator` in version 1.2 and will be removed in 1.4.\n",
      "  warnings.warn(\n"
     ]
    },
    {
     "data": {
      "text/plain": [
       "0.7744"
      ]
     },
     "execution_count": 148,
     "metadata": {},
     "output_type": "execute_result"
    }
   ],
   "source": [
    "# Trying to find out the best number of trees/estimators/base learner for the bagging model \n",
    "# Experiment with 30 trees \n",
    "model_bc = BaggingClassifier(oob_score=True, n_estimators=30, random_state=300, base_estimator=DecisionTreeClassifier())\n",
    "model_bc.fit(X_train, y_train)\n",
    "oob = model_bc.oob_score_  # Corrected variable name\n",
    "oob"
   ]
  },
  {
   "cell_type": "code",
   "execution_count": 149,
   "id": "1d44a9ee",
   "metadata": {},
   "outputs": [
    {
     "data": {
      "text/plain": [
       "0.783226723525231"
      ]
     },
     "execution_count": 149,
     "metadata": {},
     "output_type": "execute_result"
    }
   ],
   "source": [
    "model_bc.score(X_test, y_test) # Accuracy on test data set for 30tree ."
   ]
  },
  {
   "cell_type": "code",
   "execution_count": 150,
   "id": "a9f95210",
   "metadata": {},
   "outputs": [
    {
     "name": "stderr",
     "output_type": "stream",
     "text": [
      "C:\\Users\\Dell\\AppData\\Roaming\\Python\\Python311\\site-packages\\sklearn\\ensemble\\_base.py:156: FutureWarning: `base_estimator` was renamed to `estimator` in version 1.2 and will be removed in 1.4.\n",
      "  warnings.warn(\n"
     ]
    },
    {
     "data": {
      "text/plain": [
       "0.7818666666666667"
      ]
     },
     "execution_count": 150,
     "metadata": {},
     "output_type": "execute_result"
    }
   ],
   "source": [
    "# Trying to find out the best number of trees/estimators/base learner for the bagging model \n",
    "# Experiment with 300 trees \n",
    "model_bc = BaggingClassifier(oob_score=True, n_estimators=300, random_state=300, base_estimator=DecisionTreeClassifier())\n",
    "model_bc.fit(X_train, y_train)\n",
    "oob = model_bc.oob_score_  # Corrected variable name\n",
    "oob"
   ]
  },
  {
   "cell_type": "code",
   "execution_count": 151,
   "id": "576119bb",
   "metadata": {},
   "outputs": [
    {
     "data": {
      "text/plain": [
       "0.7882018479033405"
      ]
     },
     "execution_count": 151,
     "metadata": {},
     "output_type": "execute_result"
    }
   ],
   "source": [
    "model_bc.score(X_test, y_test) # Accuracy on test data set for 300tree ."
   ]
  },
  {
   "cell_type": "code",
   "execution_count": 152,
   "id": "a7258ecb",
   "metadata": {},
   "outputs": [],
   "source": [
    "import warnings\n",
    "warnings.filterwarnings(\"ignore\")"
   ]
  },
  {
   "cell_type": "code",
   "execution_count": 154,
   "id": "1dc80f15",
   "metadata": {},
   "outputs": [
    {
     "name": "stdout",
     "output_type": "stream",
     "text": [
      "the number of estimators = 10\n",
      "Out-of-bag score is 0.7564444444444445\n",
      "the number of estimators = 30\n",
      "Out-of-bag score is 0.7744\n",
      "the number of estimators = 50\n",
      "Out-of-bag score is 0.7768888888888889\n",
      "the number of estimators = 70\n",
      "Out-of-bag score is 0.7809777777777778\n",
      "the number of estimators = 90\n",
      "Out-of-bag score is 0.7788444444444445\n",
      "the number of estimators = 110\n",
      "Out-of-bag score is 0.7784888888888889\n",
      "the number of estimators = 130\n",
      "Out-of-bag score is 0.7795555555555556\n",
      "the number of estimators = 150\n",
      "Out-of-bag score is 0.7788444444444445\n",
      "the number of estimators = 170\n",
      "Out-of-bag score is 0.7793777777777777\n",
      "the number of estimators = 190\n",
      "Out-of-bag score is 0.7813333333333333\n",
      "the number of estimators = 210\n",
      "Out-of-bag score is 0.7827555555555555\n",
      "the number of estimators = 230\n",
      "Out-of-bag score is 0.7829333333333334\n",
      "the number of estimators = 250\n",
      "Out-of-bag score is 0.7811555555555556\n",
      "the number of estimators = 270\n",
      "Out-of-bag score is 0.7827555555555555\n",
      "the number of estimators = 290\n",
      "Out-of-bag score is 0.7824\n"
     ]
    }
   ],
   "source": [
    "# Find out the best number of estimators \n",
    "for i in range(10, 300, 20):  # range(start, stop, step)\n",
    "    model_bc = BaggingClassifier(oob_score=True, n_estimators=i, random_state=300, base_estimator=DecisionTreeClassifier())\n",
    "    model_bc.fit(X_train, y_train)\n",
    "    oob = model_bc.oob_score_  # Corrected variable name\n",
    "    print(\"the number of estimators =\", str(i))\n",
    "    print(\"Out-of-bag score is\", str(oob))"
   ]
  },
  {
   "cell_type": "code",
   "execution_count": 156,
   "id": "13730fab",
   "metadata": {},
   "outputs": [
    {
     "data": {
      "text/plain": [
       "0.7784888888888889"
      ]
     },
     "execution_count": 156,
     "metadata": {},
     "output_type": "execute_result"
    }
   ],
   "source": [
    "# Experiment with 110 trees \n",
    "model_bc = BaggingClassifier(oob_score=True, n_estimators=110, random_state=300, base_estimator=DecisionTreeClassifier())\n",
    "model_bc.fit(X_train, y_train)\n",
    "oob = model_bc.oob_score_  # Corrected variable name\n",
    "oob"
   ]
  },
  {
   "cell_type": "code",
   "execution_count": 159,
   "id": "20c83f8a",
   "metadata": {},
   "outputs": [
    {
     "data": {
      "text/plain": [
       "array([1, 0, 0, ..., 0, 1, 0], dtype=int64)"
      ]
     },
     "execution_count": 159,
     "metadata": {},
     "output_type": "execute_result"
    }
   ],
   "source": [
    "B1 = model_bc.fit (X_train, y_train)  # B1 Ensable bagging model is finalised\n",
    "B1.predict(X_test)\n"
   ]
  },
  {
   "cell_type": "code",
   "execution_count": 163,
   "id": "836cb500",
   "metadata": {},
   "outputs": [
    {
     "name": "stdout",
     "output_type": "stream",
     "text": [
      "Accuracy: 0.7860696517412935\n"
     ]
    }
   ],
   "source": [
    "from sklearn.metrics import accuracy_score\n",
    "\n",
    "# Assuming B1 is your trained BaggingClassifier\n",
    "predictions = B1.predict(X_test)\n",
    "\n",
    "# Assuming y_test is your true labels\n",
    "accuracy = accuracy_score(y_test, predictions)\n",
    "print(\"Accuracy:\", accuracy)\n"
   ]
  },
  {
   "cell_type": "code",
   "execution_count": 164,
   "id": "d1ab1440",
   "metadata": {},
   "outputs": [
    {
     "data": {
      "text/plain": [
       "array([[907, 116],\n",
       "       [185, 199]], dtype=int64)"
      ]
     },
     "execution_count": 164,
     "metadata": {},
     "output_type": "execute_result"
    }
   ],
   "source": [
    "# Create confusion matrix between predicted classes of test data set Vs Actual classes of test data set \n",
    "import sklearn.metrics as metrics\n",
    "metrics.confusion_matrix( y_test, B1.predict(X_test))"
   ]
  },
  {
   "cell_type": "code",
   "execution_count": 165,
   "id": "a40470da",
   "metadata": {},
   "outputs": [
    {
     "data": {
      "text/plain": [
       "[DecisionTreeClassifier(random_state=1640270127),\n",
       " DecisionTreeClassifier(random_state=1306260884),\n",
       " DecisionTreeClassifier(random_state=1255539751),\n",
       " DecisionTreeClassifier(random_state=934107047),\n",
       " DecisionTreeClassifier(random_state=1431551598),\n",
       " DecisionTreeClassifier(random_state=2146597940),\n",
       " DecisionTreeClassifier(random_state=522685486),\n",
       " DecisionTreeClassifier(random_state=753086597),\n",
       " DecisionTreeClassifier(random_state=304996901),\n",
       " DecisionTreeClassifier(random_state=125388421),\n",
       " DecisionTreeClassifier(random_state=225777655),\n",
       " DecisionTreeClassifier(random_state=911702132),\n",
       " DecisionTreeClassifier(random_state=1705271475),\n",
       " DecisionTreeClassifier(random_state=1855212142),\n",
       " DecisionTreeClassifier(random_state=1927410252),\n",
       " DecisionTreeClassifier(random_state=1792206370),\n",
       " DecisionTreeClassifier(random_state=2002259727),\n",
       " DecisionTreeClassifier(random_state=904180025),\n",
       " DecisionTreeClassifier(random_state=1277803413),\n",
       " DecisionTreeClassifier(random_state=2134168355),\n",
       " DecisionTreeClassifier(random_state=1817986586),\n",
       " DecisionTreeClassifier(random_state=775532702),\n",
       " DecisionTreeClassifier(random_state=885740386),\n",
       " DecisionTreeClassifier(random_state=373528865),\n",
       " DecisionTreeClassifier(random_state=2082177280),\n",
       " DecisionTreeClassifier(random_state=869088372),\n",
       " DecisionTreeClassifier(random_state=697086405),\n",
       " DecisionTreeClassifier(random_state=459546384),\n",
       " DecisionTreeClassifier(random_state=558285964),\n",
       " DecisionTreeClassifier(random_state=180634498),\n",
       " DecisionTreeClassifier(random_state=1451561841),\n",
       " DecisionTreeClassifier(random_state=1265945055),\n",
       " DecisionTreeClassifier(random_state=315322684),\n",
       " DecisionTreeClassifier(random_state=668110321),\n",
       " DecisionTreeClassifier(random_state=699543961),\n",
       " DecisionTreeClassifier(random_state=1827314207),\n",
       " DecisionTreeClassifier(random_state=881780900),\n",
       " DecisionTreeClassifier(random_state=589741380),\n",
       " DecisionTreeClassifier(random_state=364742232),\n",
       " DecisionTreeClassifier(random_state=1580407985),\n",
       " DecisionTreeClassifier(random_state=1405211377),\n",
       " DecisionTreeClassifier(random_state=877337982),\n",
       " DecisionTreeClassifier(random_state=863266535),\n",
       " DecisionTreeClassifier(random_state=1953203436),\n",
       " DecisionTreeClassifier(random_state=1292604517),\n",
       " DecisionTreeClassifier(random_state=1455764860),\n",
       " DecisionTreeClassifier(random_state=1649950871),\n",
       " DecisionTreeClassifier(random_state=1269860937),\n",
       " DecisionTreeClassifier(random_state=95297994),\n",
       " DecisionTreeClassifier(random_state=1219750752),\n",
       " DecisionTreeClassifier(random_state=1517956261),\n",
       " DecisionTreeClassifier(random_state=88372614),\n",
       " DecisionTreeClassifier(random_state=901523925),\n",
       " DecisionTreeClassifier(random_state=1023822582),\n",
       " DecisionTreeClassifier(random_state=1067010702),\n",
       " DecisionTreeClassifier(random_state=804166858),\n",
       " DecisionTreeClassifier(random_state=612588616),\n",
       " DecisionTreeClassifier(random_state=69409016),\n",
       " DecisionTreeClassifier(random_state=1353449645),\n",
       " DecisionTreeClassifier(random_state=2026041290),\n",
       " DecisionTreeClassifier(random_state=1887908123),\n",
       " DecisionTreeClassifier(random_state=1052435073),\n",
       " DecisionTreeClassifier(random_state=1560320026),\n",
       " DecisionTreeClassifier(random_state=1476443381),\n",
       " DecisionTreeClassifier(random_state=48021140),\n",
       " DecisionTreeClassifier(random_state=226455927),\n",
       " DecisionTreeClassifier(random_state=1335451485),\n",
       " DecisionTreeClassifier(random_state=220582878),\n",
       " DecisionTreeClassifier(random_state=1362894849),\n",
       " DecisionTreeClassifier(random_state=185204936),\n",
       " DecisionTreeClassifier(random_state=1592355299),\n",
       " DecisionTreeClassifier(random_state=1305495018),\n",
       " DecisionTreeClassifier(random_state=566832569),\n",
       " DecisionTreeClassifier(random_state=814482568),\n",
       " DecisionTreeClassifier(random_state=826495173),\n",
       " DecisionTreeClassifier(random_state=797432149),\n",
       " DecisionTreeClassifier(random_state=1474108254),\n",
       " DecisionTreeClassifier(random_state=1773038554),\n",
       " DecisionTreeClassifier(random_state=994085673),\n",
       " DecisionTreeClassifier(random_state=1153125607),\n",
       " DecisionTreeClassifier(random_state=1729847384),\n",
       " DecisionTreeClassifier(random_state=2129921412),\n",
       " DecisionTreeClassifier(random_state=362814133),\n",
       " DecisionTreeClassifier(random_state=1280067140),\n",
       " DecisionTreeClassifier(random_state=1128890355),\n",
       " DecisionTreeClassifier(random_state=675516318),\n",
       " DecisionTreeClassifier(random_state=1441620354),\n",
       " DecisionTreeClassifier(random_state=910985489),\n",
       " DecisionTreeClassifier(random_state=561566743),\n",
       " DecisionTreeClassifier(random_state=807267790),\n",
       " DecisionTreeClassifier(random_state=1508704935),\n",
       " DecisionTreeClassifier(random_state=799968379),\n",
       " DecisionTreeClassifier(random_state=1996224379),\n",
       " DecisionTreeClassifier(random_state=1541590708),\n",
       " DecisionTreeClassifier(random_state=872811611),\n",
       " DecisionTreeClassifier(random_state=32632252),\n",
       " DecisionTreeClassifier(random_state=341093214),\n",
       " DecisionTreeClassifier(random_state=663964467),\n",
       " DecisionTreeClassifier(random_state=689923501),\n",
       " DecisionTreeClassifier(random_state=72743301),\n",
       " DecisionTreeClassifier(random_state=1495275960),\n",
       " DecisionTreeClassifier(random_state=871086094),\n",
       " DecisionTreeClassifier(random_state=1838454264),\n",
       " DecisionTreeClassifier(random_state=643158046),\n",
       " DecisionTreeClassifier(random_state=1684855049),\n",
       " DecisionTreeClassifier(random_state=1457884437),\n",
       " DecisionTreeClassifier(random_state=172672347),\n",
       " DecisionTreeClassifier(random_state=1441008),\n",
       " DecisionTreeClassifier(random_state=1342329482),\n",
       " DecisionTreeClassifier(random_state=236022796)]"
      ]
     },
     "execution_count": 165,
     "metadata": {},
     "output_type": "execute_result"
    }
   ],
   "source": [
    "# feature importance \n",
    "model_bc.estimators_  # 110 trees built "
   ]
  },
  {
   "cell_type": "code",
   "execution_count": 166,
   "id": "31bcaace",
   "metadata": {},
   "outputs": [
    {
     "data": {
      "text/plain": [
       "110"
      ]
     },
     "execution_count": 166,
     "metadata": {},
     "output_type": "execute_result"
    }
   ],
   "source": [
    "len(model_bc.estimators_)"
   ]
  },
  {
   "cell_type": "code",
   "execution_count": 167,
   "id": "45e8ccc1",
   "metadata": {},
   "outputs": [
    {
     "data": {
      "text/html": [
       "<style>#sk-container-id-15 {color: black;}#sk-container-id-15 pre{padding: 0;}#sk-container-id-15 div.sk-toggleable {background-color: white;}#sk-container-id-15 label.sk-toggleable__label {cursor: pointer;display: block;width: 100%;margin-bottom: 0;padding: 0.3em;box-sizing: border-box;text-align: center;}#sk-container-id-15 label.sk-toggleable__label-arrow:before {content: \"▸\";float: left;margin-right: 0.25em;color: #696969;}#sk-container-id-15 label.sk-toggleable__label-arrow:hover:before {color: black;}#sk-container-id-15 div.sk-estimator:hover label.sk-toggleable__label-arrow:before {color: black;}#sk-container-id-15 div.sk-toggleable__content {max-height: 0;max-width: 0;overflow: hidden;text-align: left;background-color: #f0f8ff;}#sk-container-id-15 div.sk-toggleable__content pre {margin: 0.2em;color: black;border-radius: 0.25em;background-color: #f0f8ff;}#sk-container-id-15 input.sk-toggleable__control:checked~div.sk-toggleable__content {max-height: 200px;max-width: 100%;overflow: auto;}#sk-container-id-15 input.sk-toggleable__control:checked~label.sk-toggleable__label-arrow:before {content: \"▾\";}#sk-container-id-15 div.sk-estimator input.sk-toggleable__control:checked~label.sk-toggleable__label {background-color: #d4ebff;}#sk-container-id-15 div.sk-label input.sk-toggleable__control:checked~label.sk-toggleable__label {background-color: #d4ebff;}#sk-container-id-15 input.sk-hidden--visually {border: 0;clip: rect(1px 1px 1px 1px);clip: rect(1px, 1px, 1px, 1px);height: 1px;margin: -1px;overflow: hidden;padding: 0;position: absolute;width: 1px;}#sk-container-id-15 div.sk-estimator {font-family: monospace;background-color: #f0f8ff;border: 1px dotted black;border-radius: 0.25em;box-sizing: border-box;margin-bottom: 0.5em;}#sk-container-id-15 div.sk-estimator:hover {background-color: #d4ebff;}#sk-container-id-15 div.sk-parallel-item::after {content: \"\";width: 100%;border-bottom: 1px solid gray;flex-grow: 1;}#sk-container-id-15 div.sk-label:hover label.sk-toggleable__label {background-color: #d4ebff;}#sk-container-id-15 div.sk-serial::before {content: \"\";position: absolute;border-left: 1px solid gray;box-sizing: border-box;top: 0;bottom: 0;left: 50%;z-index: 0;}#sk-container-id-15 div.sk-serial {display: flex;flex-direction: column;align-items: center;background-color: white;padding-right: 0.2em;padding-left: 0.2em;position: relative;}#sk-container-id-15 div.sk-item {position: relative;z-index: 1;}#sk-container-id-15 div.sk-parallel {display: flex;align-items: stretch;justify-content: center;background-color: white;position: relative;}#sk-container-id-15 div.sk-item::before, #sk-container-id-15 div.sk-parallel-item::before {content: \"\";position: absolute;border-left: 1px solid gray;box-sizing: border-box;top: 0;bottom: 0;left: 50%;z-index: -1;}#sk-container-id-15 div.sk-parallel-item {display: flex;flex-direction: column;z-index: 1;position: relative;background-color: white;}#sk-container-id-15 div.sk-parallel-item:first-child::after {align-self: flex-end;width: 50%;}#sk-container-id-15 div.sk-parallel-item:last-child::after {align-self: flex-start;width: 50%;}#sk-container-id-15 div.sk-parallel-item:only-child::after {width: 0;}#sk-container-id-15 div.sk-dashed-wrapped {border: 1px dashed gray;margin: 0 0.4em 0.5em 0.4em;box-sizing: border-box;padding-bottom: 0.4em;background-color: white;}#sk-container-id-15 div.sk-label label {font-family: monospace;font-weight: bold;display: inline-block;line-height: 1.2em;}#sk-container-id-15 div.sk-label-container {text-align: center;}#sk-container-id-15 div.sk-container {/* jupyter's `normalize.less` sets `[hidden] { display: none; }` but bootstrap.min.css set `[hidden] { display: none !important; }` so we also need the `!important` here to be able to override the default hidden behavior on the sphinx rendered scikit-learn.org. See: https://github.com/scikit-learn/scikit-learn/issues/21755 */display: inline-block !important;position: relative;}#sk-container-id-15 div.sk-text-repr-fallback {display: none;}</style><div id=\"sk-container-id-15\" class=\"sk-top-container\"><div class=\"sk-text-repr-fallback\"><pre>DecisionTreeClassifier(random_state=1640270127)</pre><b>In a Jupyter environment, please rerun this cell to show the HTML representation or trust the notebook. <br />On GitHub, the HTML representation is unable to render, please try loading this page with nbviewer.org.</b></div><div class=\"sk-container\" hidden><div class=\"sk-item\"><div class=\"sk-estimator sk-toggleable\"><input class=\"sk-toggleable__control sk-hidden--visually\" id=\"sk-estimator-id-23\" type=\"checkbox\" checked><label for=\"sk-estimator-id-23\" class=\"sk-toggleable__label sk-toggleable__label-arrow\">DecisionTreeClassifier</label><div class=\"sk-toggleable__content\"><pre>DecisionTreeClassifier(random_state=1640270127)</pre></div></div></div></div></div>"
      ],
      "text/plain": [
       "DecisionTreeClassifier(random_state=1640270127)"
      ]
     },
     "execution_count": 167,
     "metadata": {},
     "output_type": "execute_result"
    }
   ],
   "source": [
    "model_bc.estimators_[0] #1st Tree of ensamble"
   ]
  },
  {
   "cell_type": "code",
   "execution_count": 169,
   "id": "5650cc71",
   "metadata": {},
   "outputs": [
    {
     "data": {
      "text/plain": [
       "array([1.76394783e-01, 2.58822690e-01, 8.46295049e-03, 1.83148191e-02,\n",
       "       1.32698628e-02, 7.51041185e-03, 8.54042895e-03, 7.79386863e-03,\n",
       "       6.56992882e-03, 2.03386988e-02, 0.00000000e+00, 3.17544572e-03,\n",
       "       5.73344509e-03, 0.00000000e+00, 1.14635838e-02, 0.00000000e+00,\n",
       "       5.26429015e-02, 1.09420900e-03, 1.48099797e-02, 0.00000000e+00,\n",
       "       9.50523934e-03, 8.99579613e-03, 0.00000000e+00, 1.04383869e-02,\n",
       "       8.32146248e-03, 0.00000000e+00, 9.51914521e-03, 1.46803412e-02,\n",
       "       0.00000000e+00, 7.05990149e-03, 5.41721368e-03, 0.00000000e+00,\n",
       "       6.76264570e-03, 9.32352784e-03, 5.07900589e-03, 9.99045546e-03,\n",
       "       1.62490016e-01, 1.30852217e-03, 2.84361295e-03, 1.50312686e-02,\n",
       "       1.13938123e-02, 1.44001507e-02, 6.49221183e-03, 2.22933125e-02,\n",
       "       7.04185844e-03, 2.55628566e-03, 1.32510073e-02, 5.55955293e-03,\n",
       "       2.12783058e-03, 3.17152832e-03, 6.90788513e-04, 2.33805343e-04,\n",
       "       5.51711656e-03, 1.13676966e-03, 2.42942096e-03])"
      ]
     },
     "execution_count": 169,
     "metadata": {},
     "output_type": "execute_result"
    }
   ],
   "source": [
    "model_bc.estimators_[0].feature_importances_"
   ]
  },
  {
   "cell_type": "code",
   "execution_count": 170,
   "id": "10b40d5c",
   "metadata": {},
   "outputs": [
    {
     "data": {
      "text/plain": [
       "Index(['MonthlyCharges', 'TotalCharges', 'gender_Female', 'gender_Male',\n",
       "       'SeniorCitizen_0', 'SeniorCitizen_1', 'Partner_No', 'Partner_Yes',\n",
       "       'Dependents_No', 'Dependents_Yes', 'PhoneService_No',\n",
       "       'PhoneService_Yes', 'MultipleLines_No',\n",
       "       'MultipleLines_No phone service', 'MultipleLines_Yes',\n",
       "       'InternetService_DSL', 'InternetService_Fiber optic',\n",
       "       'InternetService_No', 'OnlineSecurity_No',\n",
       "       'OnlineSecurity_No internet service', 'OnlineSecurity_Yes',\n",
       "       'OnlineBackup_No', 'OnlineBackup_No internet service',\n",
       "       'OnlineBackup_Yes', 'DeviceProtection_No',\n",
       "       'DeviceProtection_No internet service', 'DeviceProtection_Yes',\n",
       "       'TechSupport_No', 'TechSupport_No internet service', 'TechSupport_Yes',\n",
       "       'StreamingTV_No', 'StreamingTV_No internet service', 'StreamingTV_Yes',\n",
       "       'StreamingMovies_No', 'StreamingMovies_No internet service',\n",
       "       'StreamingMovies_Yes', 'Contract_Month-to-month', 'Contract_One year',\n",
       "       'Contract_Two year', 'PaperlessBilling_No', 'PaperlessBilling_Yes',\n",
       "       'PaymentMethod_Bank transfer (automatic)',\n",
       "       'PaymentMethod_Credit card (automatic)',\n",
       "       'PaymentMethod_Electronic check', 'PaymentMethod_Mailed check',\n",
       "       'tenure_group_1 - 12', 'tenure_group_13 - 24', 'tenure_group_25 - 36',\n",
       "       'tenure_group_37 - 48', 'tenure_group_49 - 60', 'tenure_group_61 - 72',\n",
       "       'MonthlyCharges_buckets_0-30', 'MonthlyCharges_buckets_31-60',\n",
       "       'MonthlyCharges_buckets_61-90', 'MonthlyCharges_buckets_91-120'],\n",
       "      dtype='object')"
      ]
     },
     "execution_count": 170,
     "metadata": {},
     "output_type": "execute_result"
    }
   ],
   "source": [
    "X.columns"
   ]
  },
  {
   "cell_type": "code",
   "execution_count": 168,
   "id": "4b4ce367",
   "metadata": {},
   "outputs": [
    {
     "data": {
      "text/html": [
       "<style>#sk-container-id-16 {color: black;}#sk-container-id-16 pre{padding: 0;}#sk-container-id-16 div.sk-toggleable {background-color: white;}#sk-container-id-16 label.sk-toggleable__label {cursor: pointer;display: block;width: 100%;margin-bottom: 0;padding: 0.3em;box-sizing: border-box;text-align: center;}#sk-container-id-16 label.sk-toggleable__label-arrow:before {content: \"▸\";float: left;margin-right: 0.25em;color: #696969;}#sk-container-id-16 label.sk-toggleable__label-arrow:hover:before {color: black;}#sk-container-id-16 div.sk-estimator:hover label.sk-toggleable__label-arrow:before {color: black;}#sk-container-id-16 div.sk-toggleable__content {max-height: 0;max-width: 0;overflow: hidden;text-align: left;background-color: #f0f8ff;}#sk-container-id-16 div.sk-toggleable__content pre {margin: 0.2em;color: black;border-radius: 0.25em;background-color: #f0f8ff;}#sk-container-id-16 input.sk-toggleable__control:checked~div.sk-toggleable__content {max-height: 200px;max-width: 100%;overflow: auto;}#sk-container-id-16 input.sk-toggleable__control:checked~label.sk-toggleable__label-arrow:before {content: \"▾\";}#sk-container-id-16 div.sk-estimator input.sk-toggleable__control:checked~label.sk-toggleable__label {background-color: #d4ebff;}#sk-container-id-16 div.sk-label input.sk-toggleable__control:checked~label.sk-toggleable__label {background-color: #d4ebff;}#sk-container-id-16 input.sk-hidden--visually {border: 0;clip: rect(1px 1px 1px 1px);clip: rect(1px, 1px, 1px, 1px);height: 1px;margin: -1px;overflow: hidden;padding: 0;position: absolute;width: 1px;}#sk-container-id-16 div.sk-estimator {font-family: monospace;background-color: #f0f8ff;border: 1px dotted black;border-radius: 0.25em;box-sizing: border-box;margin-bottom: 0.5em;}#sk-container-id-16 div.sk-estimator:hover {background-color: #d4ebff;}#sk-container-id-16 div.sk-parallel-item::after {content: \"\";width: 100%;border-bottom: 1px solid gray;flex-grow: 1;}#sk-container-id-16 div.sk-label:hover label.sk-toggleable__label {background-color: #d4ebff;}#sk-container-id-16 div.sk-serial::before {content: \"\";position: absolute;border-left: 1px solid gray;box-sizing: border-box;top: 0;bottom: 0;left: 50%;z-index: 0;}#sk-container-id-16 div.sk-serial {display: flex;flex-direction: column;align-items: center;background-color: white;padding-right: 0.2em;padding-left: 0.2em;position: relative;}#sk-container-id-16 div.sk-item {position: relative;z-index: 1;}#sk-container-id-16 div.sk-parallel {display: flex;align-items: stretch;justify-content: center;background-color: white;position: relative;}#sk-container-id-16 div.sk-item::before, #sk-container-id-16 div.sk-parallel-item::before {content: \"\";position: absolute;border-left: 1px solid gray;box-sizing: border-box;top: 0;bottom: 0;left: 50%;z-index: -1;}#sk-container-id-16 div.sk-parallel-item {display: flex;flex-direction: column;z-index: 1;position: relative;background-color: white;}#sk-container-id-16 div.sk-parallel-item:first-child::after {align-self: flex-end;width: 50%;}#sk-container-id-16 div.sk-parallel-item:last-child::after {align-self: flex-start;width: 50%;}#sk-container-id-16 div.sk-parallel-item:only-child::after {width: 0;}#sk-container-id-16 div.sk-dashed-wrapped {border: 1px dashed gray;margin: 0 0.4em 0.5em 0.4em;box-sizing: border-box;padding-bottom: 0.4em;background-color: white;}#sk-container-id-16 div.sk-label label {font-family: monospace;font-weight: bold;display: inline-block;line-height: 1.2em;}#sk-container-id-16 div.sk-label-container {text-align: center;}#sk-container-id-16 div.sk-container {/* jupyter's `normalize.less` sets `[hidden] { display: none; }` but bootstrap.min.css set `[hidden] { display: none !important; }` so we also need the `!important` here to be able to override the default hidden behavior on the sphinx rendered scikit-learn.org. See: https://github.com/scikit-learn/scikit-learn/issues/21755 */display: inline-block !important;position: relative;}#sk-container-id-16 div.sk-text-repr-fallback {display: none;}</style><div id=\"sk-container-id-16\" class=\"sk-top-container\"><div class=\"sk-text-repr-fallback\"><pre>DecisionTreeClassifier(random_state=236022796)</pre><b>In a Jupyter environment, please rerun this cell to show the HTML representation or trust the notebook. <br />On GitHub, the HTML representation is unable to render, please try loading this page with nbviewer.org.</b></div><div class=\"sk-container\" hidden><div class=\"sk-item\"><div class=\"sk-estimator sk-toggleable\"><input class=\"sk-toggleable__control sk-hidden--visually\" id=\"sk-estimator-id-24\" type=\"checkbox\" checked><label for=\"sk-estimator-id-24\" class=\"sk-toggleable__label sk-toggleable__label-arrow\">DecisionTreeClassifier</label><div class=\"sk-toggleable__content\"><pre>DecisionTreeClassifier(random_state=236022796)</pre></div></div></div></div></div>"
      ],
      "text/plain": [
       "DecisionTreeClassifier(random_state=236022796)"
      ]
     },
     "execution_count": 168,
     "metadata": {},
     "output_type": "execute_result"
    }
   ],
   "source": [
    "model_bc.estimators_[109] # last Tree of ensamble"
   ]
  },
  {
   "cell_type": "code",
   "execution_count": 171,
   "id": "fa21a9b5",
   "metadata": {},
   "outputs": [
    {
     "data": {
      "text/plain": [
       "array([0.22077945, 0.23621489, 0.01392634, 0.0139765 , 0.01013293,\n",
       "       0.01113444, 0.00396029, 0.01071337, 0.00867447, 0.01034754,\n",
       "       0.00229247, 0.00154464, 0.0122857 , 0.        , 0.01079135,\n",
       "       0.        , 0.0562488 , 0.        , 0.00718412, 0.        ,\n",
       "       0.01147138, 0.01250294, 0.        , 0.00834788, 0.00863288,\n",
       "       0.        , 0.00634317, 0.01146269, 0.        , 0.0121824 ,\n",
       "       0.00855739, 0.        , 0.00328932, 0.00327637, 0.        ,\n",
       "       0.00518967, 0.18348975, 0.00402606, 0.0015342 , 0.01100029,\n",
       "       0.01258795, 0.00914885, 0.01091945, 0.01806965, 0.01138327,\n",
       "       0.00266054, 0.00168818, 0.00310051, 0.00280184, 0.00159056,\n",
       "       0.00124471, 0.        , 0.00169377, 0.00159704, 0.        ])"
      ]
     },
     "execution_count": 171,
     "metadata": {},
     "output_type": "execute_result"
    }
   ],
   "source": [
    "model_bc.estimators_[109].feature_importances_"
   ]
  },
  {
   "cell_type": "code",
   "execution_count": 172,
   "id": "2a2243d1",
   "metadata": {},
   "outputs": [
    {
     "data": {
      "text/plain": [
       "Index(['MonthlyCharges', 'TotalCharges', 'gender_Female', 'gender_Male',\n",
       "       'SeniorCitizen_0', 'SeniorCitizen_1', 'Partner_No', 'Partner_Yes',\n",
       "       'Dependents_No', 'Dependents_Yes', 'PhoneService_No',\n",
       "       'PhoneService_Yes', 'MultipleLines_No',\n",
       "       'MultipleLines_No phone service', 'MultipleLines_Yes',\n",
       "       'InternetService_DSL', 'InternetService_Fiber optic',\n",
       "       'InternetService_No', 'OnlineSecurity_No',\n",
       "       'OnlineSecurity_No internet service', 'OnlineSecurity_Yes',\n",
       "       'OnlineBackup_No', 'OnlineBackup_No internet service',\n",
       "       'OnlineBackup_Yes', 'DeviceProtection_No',\n",
       "       'DeviceProtection_No internet service', 'DeviceProtection_Yes',\n",
       "       'TechSupport_No', 'TechSupport_No internet service', 'TechSupport_Yes',\n",
       "       'StreamingTV_No', 'StreamingTV_No internet service', 'StreamingTV_Yes',\n",
       "       'StreamingMovies_No', 'StreamingMovies_No internet service',\n",
       "       'StreamingMovies_Yes', 'Contract_Month-to-month', 'Contract_One year',\n",
       "       'Contract_Two year', 'PaperlessBilling_No', 'PaperlessBilling_Yes',\n",
       "       'PaymentMethod_Bank transfer (automatic)',\n",
       "       'PaymentMethod_Credit card (automatic)',\n",
       "       'PaymentMethod_Electronic check', 'PaymentMethod_Mailed check',\n",
       "       'tenure_group_1 - 12', 'tenure_group_13 - 24', 'tenure_group_25 - 36',\n",
       "       'tenure_group_37 - 48', 'tenure_group_49 - 60', 'tenure_group_61 - 72',\n",
       "       'MonthlyCharges_buckets_0-30', 'MonthlyCharges_buckets_31-60',\n",
       "       'MonthlyCharges_buckets_61-90', 'MonthlyCharges_buckets_91-120'],\n",
       "      dtype='object')"
      ]
     },
     "execution_count": 172,
     "metadata": {},
     "output_type": "execute_result"
    }
   ],
   "source": [
    "X.columns"
   ]
  },
  {
   "cell_type": "code",
   "execution_count": 174,
   "id": "a45e9949",
   "metadata": {},
   "outputs": [
    {
     "name": "stdout",
     "output_type": "stream",
     "text": [
      "Average importance of 'TotalCharges': 0.25583122087814597\n",
      "Average importance of 'MonthlyCharges': 0.193426909656008\n",
      "Average importance of 'Contract_Month-to-month': 0.1626376045248835\n",
      "Average importance of 'InternetService_Fiber optic': 0.04945488322435525\n",
      "Average importance of 'PaymentMethod_Electronic check': 0.01940967509397221\n",
      "Average importance of 'OnlineSecurity_No': 0.01683794490422422\n",
      "Average importance of 'gender_Male': 0.014723385679621157\n",
      "Average importance of 'gender_Female': 0.013657099822585611\n",
      "Average importance of 'PaperlessBilling_No': 0.012883982062173007\n",
      "Average importance of 'PaymentMethod_Credit card (automatic)': 0.012166412666121541\n",
      "Average importance of 'PaperlessBilling_Yes': 0.011931430071507258\n",
      "Average importance of 'Partner_No': 0.011426290736420897\n",
      "Average importance of 'SeniorCitizen_0': 0.011370784321413646\n",
      "Average importance of 'OnlineBackup_No': 0.011217060665983205\n",
      "Average importance of 'PaymentMethod_Bank transfer (automatic)': 0.011101047075835209\n",
      "Average importance of 'PaymentMethod_Mailed check': 0.010984356170453952\n",
      "Average importance of 'TechSupport_No': 0.010841231932050447\n",
      "Average importance of 'SeniorCitizen_1': 0.010753045159378694\n",
      "Average importance of 'Partner_Yes': 0.01068765229781569\n",
      "Average importance of 'Dependents_No': 0.010224900432403152\n",
      "Average importance of 'Dependents_Yes': 0.009962794725108496\n",
      "Average importance of 'MultipleLines_No': 0.009665963150803357\n",
      "Average importance of 'tenure_group_1 - 12': 0.009048367379333339\n",
      "Average importance of 'MultipleLines_Yes': 0.008835746929766979\n",
      "Average importance of 'OnlineBackup_Yes': 0.008788410135032636\n",
      "Average importance of 'DeviceProtection_No': 0.008219161758296697\n",
      "Average importance of 'TechSupport_Yes': 0.007677614545760312\n",
      "Average importance of 'DeviceProtection_Yes': 0.007488793023703692\n",
      "Average importance of 'StreamingMovies_Yes': 0.007333011682345555\n",
      "Average importance of 'StreamingMovies_No': 0.00674257488057889\n",
      "Average importance of 'OnlineSecurity_Yes': 0.006711101977631699\n",
      "Average importance of 'StreamingTV_Yes': 0.0062378880483641656\n",
      "Average importance of 'StreamingTV_No': 0.0057666907876718215\n",
      "Average importance of 'tenure_group_37 - 48': 0.004602032338651419\n",
      "Average importance of 'tenure_group_25 - 36': 0.004232752349752855\n",
      "Average importance of 'tenure_group_13 - 24': 0.0036990497995383533\n",
      "Average importance of 'tenure_group_49 - 60': 0.0035714336995480286\n",
      "Average importance of 'Contract_One year': 0.002604615163450008\n",
      "Average importance of 'Contract_Two year': 0.0023891646494926372\n",
      "Average importance of 'MonthlyCharges_buckets_31-60': 0.002300287015166894\n",
      "Average importance of 'MonthlyCharges_buckets_61-90': 0.002135618382899702\n",
      "Average importance of 'PhoneService_No': 0.0016466201585990175\n",
      "Average importance of 'MultipleLines_No phone service': 0.0015485481145159103\n",
      "Average importance of 'PhoneService_Yes': 0.0014065173846037236\n",
      "Average importance of 'tenure_group_61 - 72': 0.0012366051845039028\n",
      "Average importance of 'MonthlyCharges_buckets_91-120': 0.001206389961979315\n",
      "Average importance of 'InternetService_DSL': 0.001077913235766896\n",
      "Average importance of 'StreamingMovies_No internet service': 0.00043364414714011694\n",
      "Average importance of 'MonthlyCharges_buckets_0-30': 0.00040754860648969016\n",
      "Average importance of 'OnlineSecurity_No internet service': 0.00030980255100479363\n",
      "Average importance of 'OnlineBackup_No internet service': 0.00028673467151803705\n",
      "Average importance of 'TechSupport_No internet service': 0.00027479384147575226\n",
      "Average importance of 'InternetService_No': 0.0002577624319925854\n",
      "Average importance of 'DeviceProtection_No internet service': 0.0001650125010580564\n",
      "Average importance of 'StreamingTV_No internet service': 0.00016211741110203057\n"
     ]
    }
   ],
   "source": [
    "import numpy as np\n",
    "from sklearn.tree import DecisionTreeClassifier\n",
    "from sklearn.ensemble import BaggingClassifier\n",
    "\n",
    "# Assuming you have a BaggingClassifier named model_bc already trained\n",
    "# with X_train and y_train as your training data\n",
    "\n",
    "# Feature names\n",
    "feature_names = X.columns\n",
    "\n",
    "# Initialize dictionaries to store feature importances and their averages\n",
    "feature_importances = {feature: [] for feature in feature_names}\n",
    "average_importances = {}\n",
    "\n",
    "# Iterate over each decision tree in the ensemble\n",
    "for tree in model_bc.estimators_:\n",
    "    # Iterate over each feature and accumulate importances\n",
    "    for i, feature in enumerate(feature_names):\n",
    "        feature_importances[feature].append(tree.feature_importances_[i])\n",
    "\n",
    "# Calculate the average importance for each feature\n",
    "for feature, importances in feature_importances.items():\n",
    "    average_importance = np.mean(importances)\n",
    "    average_importances[feature] = average_importance\n",
    "\n",
    "# Print the average importances in descending order\n",
    "sorted_importances = sorted(average_importances.items(), key=lambda x: x[1], reverse=True)\n",
    "for feature, importance in sorted_importances:\n",
    "    print(f\"Average importance of '{feature}': {importance}\")\n"
   ]
  },
  {
   "cell_type": "code",
   "execution_count": 180,
   "id": "8f99b8d0",
   "metadata": {},
   "outputs": [
    {
     "data": {
      "image/png": "[encoded data removed]",
      "text/plain": [
       "<Figure size 1200x800 with 1 Axes>"
      ]
     },
     "metadata": {},
     "output_type": "display_data"
    }
   ],
   "source": [
    "import numpy as np\n",
    "import matplotlib.pyplot as plt\n",
    "from sklearn.tree import DecisionTreeClassifier\n",
    "from sklearn.ensemble import BaggingClassifier\n",
    "\n",
    "# Assuming you have a BaggingClassifier named model_bc already trained\n",
    "# with X_train and y_train as your training data\n",
    "\n",
    "# Feature names\n",
    "feature_names = X.columns\n",
    "\n",
    "# Initialize dictionaries to store feature importances and their averages\n",
    "feature_importances = {feature: [] for feature in feature_names}\n",
    "average_importances = {}\n",
    "\n",
    "# Iterate over each decision tree in the ensemble\n",
    "for tree in model_bc.estimators_:\n",
    "    # Iterate over each feature and accumulate importances\n",
    "    for i, feature in enumerate(feature_names):\n",
    "        feature_importances[feature].append(tree.feature_importances_[i])\n",
    "\n",
    "# Calculate the average importance for each feature\n",
    "for feature, importances in feature_importances.items():\n",
    "    average_importance = np.mean(importances)\n",
    "    average_importances[feature] = average_importance\n",
    "\n",
    "# Sort the average importances in descending order\n",
    "sorted_importances = sorted(average_importances.items(), key=lambda x: x[1], reverse=True)\n",
    "\n",
    "# Extract sorted feature names and importances\n",
    "sorted_feature_names, sorted_importances_values = zip(*sorted_importances)\n",
    "\n",
    "# Create a beautiful horizontal bar plot with non-overlapping labels\n",
    "plt.figure(figsize=(12, 8))\n",
    "bars = plt.barh(sorted_feature_names, sorted_importances_values, color='skyblue')\n",
    "\n",
    "# Add values on top of the bars\n",
    "for bar, value in zip(bars, sorted_importances_values):\n",
    "    plt.text(bar.get_width() + 0.01, bar.get_y() + bar.get_height() / 2, f'{value:.4f}', va='center')\n",
    "\n",
    "plt.xlabel('Average Importance')\n",
    "plt.title('Feature Importances in Bagging Ensemble')\n",
    "plt.tight_layout()  # Improve spacing\n",
    "sorted_importances = sorted(average_importances.items(), key=lambda x: x[1], reverse=False)\n",
    "plt.show()\n"
   ]
  },
  {
   "cell_type": "markdown",
   "id": "ddfbc48e",
   "metadata": {},
   "source": [
    "## Evaluation of Bagging Model with SMOTEENN Resampling"
   ]
  },
  {
   "cell_type": "code",
   "execution_count": 181,
   "id": "522144b8",
   "metadata": {},
   "outputs": [],
   "source": [
    "#Import the SMOTEENN module: \n",
    "sm = SMOTEENN()    "
   ]
  },
  {
   "cell_type": "code",
   "execution_count": 182,
   "id": "c73cca09",
   "metadata": {},
   "outputs": [],
   "source": [
    "# Resample the data using SMOTEENN:\n",
    "X_resampled1, y_resampled1 = sm.fit_resample(X, y)"
   ]
  },
  {
   "cell_type": "code",
   "execution_count": 191,
   "id": "c729c022",
   "metadata": {},
   "outputs": [],
   "source": [
    "#Split the resampled data into training and testing sets:\n",
    "Xr_train1,Xr_test1,yr_train1,yr_test1=train_test_split(X_resampled1, y_resampled1,test_size=0.2)"
   ]
  },
  {
   "cell_type": "code",
   "execution_count": 184,
   "id": "689fa418",
   "metadata": {},
   "outputs": [],
   "source": [
    "#Initialize and train a BaggingClassifier with resampled data:\n",
    "model_bc_smote=BaggingClassifier(oob_score=True, n_estimators=110, random_state=300, base_estimator=DecisionTreeClassifier())"
   ]
  },
  {
   "cell_type": "code",
   "execution_count": 185,
   "id": "6e5dec95",
   "metadata": {},
   "outputs": [
    {
     "data": {
      "text/html": [
       "<style>#sk-container-id-17 {color: black;}#sk-container-id-17 pre{padding: 0;}#sk-container-id-17 div.sk-toggleable {background-color: white;}#sk-container-id-17 label.sk-toggleable__label {cursor: pointer;display: block;width: 100%;margin-bottom: 0;padding: 0.3em;box-sizing: border-box;text-align: center;}#sk-container-id-17 label.sk-toggleable__label-arrow:before {content: \"▸\";float: left;margin-right: 0.25em;color: #696969;}#sk-container-id-17 label.sk-toggleable__label-arrow:hover:before {color: black;}#sk-container-id-17 div.sk-estimator:hover label.sk-toggleable__label-arrow:before {color: black;}#sk-container-id-17 div.sk-toggleable__content {max-height: 0;max-width: 0;overflow: hidden;text-align: left;background-color: #f0f8ff;}#sk-container-id-17 div.sk-toggleable__content pre {margin: 0.2em;color: black;border-radius: 0.25em;background-color: #f0f8ff;}#sk-container-id-17 input.sk-toggleable__control:checked~div.sk-toggleable__content {max-height: 200px;max-width: 100%;overflow: auto;}#sk-container-id-17 input.sk-toggleable__control:checked~label.sk-toggleable__label-arrow:before {content: \"▾\";}#sk-container-id-17 div.sk-estimator input.sk-toggleable__control:checked~label.sk-toggleable__label {background-color: #d4ebff;}#sk-container-id-17 div.sk-label input.sk-toggleable__control:checked~label.sk-toggleable__label {background-color: #d4ebff;}#sk-container-id-17 input.sk-hidden--visually {border: 0;clip: rect(1px 1px 1px 1px);clip: rect(1px, 1px, 1px, 1px);height: 1px;margin: -1px;overflow: hidden;padding: 0;position: absolute;width: 1px;}#sk-container-id-17 div.sk-estimator {font-family: monospace;background-color: #f0f8ff;border: 1px dotted black;border-radius: 0.25em;box-sizing: border-box;margin-bottom: 0.5em;}#sk-container-id-17 div.sk-estimator:hover {background-color: #d4ebff;}#sk-container-id-17 div.sk-parallel-item::after {content: \"\";width: 100%;border-bottom: 1px solid gray;flex-grow: 1;}#sk-container-id-17 div.sk-label:hover label.sk-toggleable__label {background-color: #d4ebff;}#sk-container-id-17 div.sk-serial::before {content: \"\";position: absolute;border-left: 1px solid gray;box-sizing: border-box;top: 0;bottom: 0;left: 50%;z-index: 0;}#sk-container-id-17 div.sk-serial {display: flex;flex-direction: column;align-items: center;background-color: white;padding-right: 0.2em;padding-left: 0.2em;position: relative;}#sk-container-id-17 div.sk-item {position: relative;z-index: 1;}#sk-container-id-17 div.sk-parallel {display: flex;align-items: stretch;justify-content: center;background-color: white;position: relative;}#sk-container-id-17 div.sk-item::before, #sk-container-id-17 div.sk-parallel-item::before {content: \"\";position: absolute;border-left: 1px solid gray;box-sizing: border-box;top: 0;bottom: 0;left: 50%;z-index: -1;}#sk-container-id-17 div.sk-parallel-item {display: flex;flex-direction: column;z-index: 1;position: relative;background-color: white;}#sk-container-id-17 div.sk-parallel-item:first-child::after {align-self: flex-end;width: 50%;}#sk-container-id-17 div.sk-parallel-item:last-child::after {align-self: flex-start;width: 50%;}#sk-container-id-17 div.sk-parallel-item:only-child::after {width: 0;}#sk-container-id-17 div.sk-dashed-wrapped {border: 1px dashed gray;margin: 0 0.4em 0.5em 0.4em;box-sizing: border-box;padding-bottom: 0.4em;background-color: white;}#sk-container-id-17 div.sk-label label {font-family: monospace;font-weight: bold;display: inline-block;line-height: 1.2em;}#sk-container-id-17 div.sk-label-container {text-align: center;}#sk-container-id-17 div.sk-container {/* jupyter's `normalize.less` sets `[hidden] { display: none; }` but bootstrap.min.css set `[hidden] { display: none !important; }` so we also need the `!important` here to be able to override the default hidden behavior on the sphinx rendered scikit-learn.org. See: https://github.com/scikit-learn/scikit-learn/issues/21755 */display: inline-block !important;position: relative;}#sk-container-id-17 div.sk-text-repr-fallback {display: none;}</style><div id=\"sk-container-id-17\" class=\"sk-top-container\"><div class=\"sk-text-repr-fallback\"><pre>BaggingClassifier(base_estimator=DecisionTreeClassifier(), n_estimators=110,\n",
       "                  oob_score=True, random_state=300)</pre><b>In a Jupyter environment, please rerun this cell to show the HTML representation or trust the notebook. <br />On GitHub, the HTML representation is unable to render, please try loading this page with nbviewer.org.</b></div><div class=\"sk-container\" hidden><div class=\"sk-item sk-dashed-wrapped\"><div class=\"sk-label-container\"><div class=\"sk-label sk-toggleable\"><input class=\"sk-toggleable__control sk-hidden--visually\" id=\"sk-estimator-id-25\" type=\"checkbox\" ><label for=\"sk-estimator-id-25\" class=\"sk-toggleable__label sk-toggleable__label-arrow\">BaggingClassifier</label><div class=\"sk-toggleable__content\"><pre>BaggingClassifier(base_estimator=DecisionTreeClassifier(), n_estimators=110,\n",
       "                  oob_score=True, random_state=300)</pre></div></div></div><div class=\"sk-parallel\"><div class=\"sk-parallel-item\"><div class=\"sk-item\"><div class=\"sk-label-container\"><div class=\"sk-label sk-toggleable\"><input class=\"sk-toggleable__control sk-hidden--visually\" id=\"sk-estimator-id-26\" type=\"checkbox\" ><label for=\"sk-estimator-id-26\" class=\"sk-toggleable__label sk-toggleable__label-arrow\">base_estimator: DecisionTreeClassifier</label><div class=\"sk-toggleable__content\"><pre>DecisionTreeClassifier()</pre></div></div></div><div class=\"sk-serial\"><div class=\"sk-item\"><div class=\"sk-estimator sk-toggleable\"><input class=\"sk-toggleable__control sk-hidden--visually\" id=\"sk-estimator-id-27\" type=\"checkbox\" ><label for=\"sk-estimator-id-27\" class=\"sk-toggleable__label sk-toggleable__label-arrow\">DecisionTreeClassifier</label><div class=\"sk-toggleable__content\"><pre>DecisionTreeClassifier()</pre></div></div></div></div></div></div></div></div></div></div>"
      ],
      "text/plain": [
       "BaggingClassifier(base_estimator=DecisionTreeClassifier(), n_estimators=110,\n",
       "                  oob_score=True, random_state=300)"
      ]
     },
     "execution_count": 185,
     "metadata": {},
     "output_type": "execute_result"
    }
   ],
   "source": [
    "model_bc_smote.fit(Xr_train1,yr_train1)"
   ]
  },
  {
   "cell_type": "code",
   "execution_count": 192,
   "id": "53436d94",
   "metadata": {},
   "outputs": [],
   "source": [
    "# Make predictions on the training set\n",
    "yr_predict_train1 = model_bc_smote.predict(Xr_train1)"
   ]
  },
  {
   "cell_type": "code",
   "execution_count": 193,
   "id": "a4ffe57a",
   "metadata": {},
   "outputs": [
    {
     "name": "stdout",
     "output_type": "stream",
     "text": [
      "[1 1 0 ... 0 1 1]\n"
     ]
    }
   ],
   "source": [
    "# Print the predicted values for the training set\n",
    "print(yr_predict_train1)"
   ]
  },
  {
   "cell_type": "code",
   "execution_count": 195,
   "id": "61c26e03",
   "metadata": {},
   "outputs": [
    {
     "name": "stdout",
     "output_type": "stream",
     "text": [
      "Actual labels for the training set:\n",
      "4420    1\n",
      "4798    1\n",
      "502     0\n",
      "296     0\n",
      "2290    0\n",
      "       ..\n",
      "1772    0\n",
      "1319    0\n",
      "2281    0\n",
      "4258    1\n",
      "2835    1\n",
      "Name: Churn, Length: 4688, dtype: int64\n"
     ]
    }
   ],
   "source": [
    "# Print the actual labels and predicted values for the training set\n",
    "print(\"Actual labels for the training set:\")\n",
    "print(yr_train1)\n"
   ]
  },
  {
   "cell_type": "code",
   "execution_count": 196,
   "id": "da044860",
   "metadata": {},
   "outputs": [
    {
     "name": "stdout",
     "output_type": "stream",
     "text": [
      "      Actual Labels  Predicted Values\n",
      "4420              1                 1\n",
      "4798              1                 1\n",
      "502               0                 0\n",
      "296               0                 0\n",
      "2290              0                 0\n",
      "...             ...               ...\n",
      "1772              0                 0\n",
      "1319              0                 0\n",
      "2281              0                 0\n",
      "4258              1                 1\n",
      "2835              1                 1\n",
      "\n",
      "[4688 rows x 2 columns]\n"
     ]
    }
   ],
   "source": [
    "import pandas as pd\n",
    "\n",
    "# Create a DataFrame with actual labels and predicted values for the training set\n",
    "comparison_table = pd.DataFrame({'Actual Labels': yr_train1, 'Predicted Values': yr_predict_train1})\n",
    "\n",
    "# Print the table\n",
    "print(comparison_table)"
   ]
  },
  {
   "cell_type": "code",
   "execution_count": 186,
   "id": "3c550fd2",
   "metadata": {},
   "outputs": [],
   "source": [
    "# Make predictions on the test set\n",
    "yr_predict1 = model_bc_smote.predict(Xr_test1)"
   ]
  },
  {
   "cell_type": "code",
   "execution_count": 197,
   "id": "7b2f9139",
   "metadata": {},
   "outputs": [
    {
     "name": "stdout",
     "output_type": "stream",
     "text": [
      "      Actual Labels  Predicted Values\n",
      "2037              0                 0\n",
      "3551              1                 1\n",
      "1805              0                 0\n",
      "5350              1                 1\n",
      "1647              0                 0\n",
      "...             ...               ...\n",
      "260               0                 0\n",
      "5500              1                 1\n",
      "2790              1                 1\n",
      "2496              0                 0\n",
      "4961              1                 1\n",
      "\n",
      "[1172 rows x 2 columns]\n"
     ]
    }
   ],
   "source": [
    "import pandas as pd\n",
    "\n",
    "# Make predictions on the test set\n",
    "yr_predict_test1 = model_bc_smote.predict(Xr_test1)\n",
    "\n",
    "# Create a DataFrame with actual labels and predicted values for the test set\n",
    "comparison_table_test = pd.DataFrame({'Actual Labels': yr_test1, 'Predicted Values': yr_predict_test1})\n",
    "\n",
    "# Print the table\n",
    "print(comparison_table_test)\n"
   ]
  },
  {
   "cell_type": "code",
   "execution_count": 187,
   "id": "2b79a4d0",
   "metadata": {},
   "outputs": [],
   "source": [
    "# Evaluate the model's score on the test set:\n",
    "model_score_r1 = model_bc_smote.score(Xr_test1, yr_test1)"
   ]
  },
  {
   "cell_type": "code",
   "execution_count": 188,
   "id": "8f2a8159",
   "metadata": {},
   "outputs": [
    {
     "name": "stdout",
     "output_type": "stream",
     "text": [
      "0.9667235494880546\n"
     ]
    }
   ],
   "source": [
    "print(model_score_r1)"
   ]
  },
  {
   "cell_type": "code",
   "execution_count": 189,
   "id": "5faaad91",
   "metadata": {},
   "outputs": [
    {
     "name": "stdout",
     "output_type": "stream",
     "text": [
      "              precision    recall  f1-score   support\n",
      "\n",
      "           0       0.97      0.96      0.96       518\n",
      "           1       0.97      0.97      0.97       654\n",
      "\n",
      "    accuracy                           0.97      1172\n",
      "   macro avg       0.97      0.97      0.97      1172\n",
      "weighted avg       0.97      0.97      0.97      1172\n",
      "\n"
     ]
    }
   ],
   "source": [
    "## Print the Classification Report for the Test Set\n",
    "print(metrics.classification_report(yr_test1, yr_predict1))"
   ]
  },
  {
   "cell_type": "code",
   "execution_count": 190,
   "id": "6a2fb04e",
   "metadata": {},
   "outputs": [
    {
     "name": "stdout",
     "output_type": "stream",
     "text": [
      "[[496  22]\n",
      " [ 17 637]]\n"
     ]
    }
   ],
   "source": [
    "#Print confusion matrix:\n",
    "print(metrics.confusion_matrix(yr_test1, yr_predict1))"
   ]
  },
  {
   "cell_type": "markdown",
   "id": "6059c059",
   "metadata": {},
   "source": [
    "https://www.kaggle.com/code/egorpantyukhin/telco-churn-catboost-auc-0-932-acc-0-94"
   ]
  },
  {
   "cell_type": "markdown",
   "id": "66259c79",
   "metadata": {},
   "source": [
    "## Performing PCA"
   ]
  },
  {
   "cell_type": "markdown",
   "id": "50554db6",
   "metadata": {},
   "source": [
    "PCA, or Principal Component Analysis, is a dimensionality reduction technique used in machine learning and statistics. The primary goal of PCA is to transform high-dimensional data into a new coordinate system (set of principal components) where the data variance is maximized along the principal axes. By doing so, PCA helps capture the most important information in the data while discarding the less critical details."
   ]
  },
  {
   "cell_type": "code",
   "execution_count": null,
   "id": "8b43b444",
   "metadata": {},
   "outputs": [],
   "source": [
    "# Applying PCA\n",
    "from sklearn.decomposition import PCA\n",
    "pca = PCA(0.9)\n",
    "Xr_train_pca = pca.fit_transform(Xr_train1)\n",
    "Xr_test_pca = pca.transform(Xr_test1)\n",
    "explained_variance = pca.explained_variance_ratio_"
   ]
  },
  {
   "cell_type": "code",
   "execution_count": null,
   "id": "c926d929",
   "metadata": {},
   "outputs": [],
   "source": [
    "model=RandomForestClassifier(n_estimators=100, criterion='gini', random_state = 100,max_depth=6, min_samples_leaf=8)"
   ]
  },
  {
   "cell_type": "code",
   "execution_count": null,
   "id": "e8a3e72c",
   "metadata": {},
   "outputs": [],
   "source": [
    "model.fit(Xr_train_pca,yr_train1)"
   ]
  },
  {
   "cell_type": "code",
   "execution_count": null,
   "id": "aecf8d35",
   "metadata": {},
   "outputs": [],
   "source": [
    "yr_predict_pca = model.predict(Xr_test_pca)"
   ]
  },
  {
   "cell_type": "code",
   "execution_count": null,
   "id": "52017c13",
   "metadata": {},
   "outputs": [],
   "source": [
    "model_score_r_pca = model.score(Xr_test_pca, yr_test1)"
   ]
  },
  {
   "cell_type": "code",
   "execution_count": null,
   "id": "98227ac4",
   "metadata": {},
   "outputs": [],
   "source": [
    "print(model_score_r_pca)\n",
    "print(metrics.classification_report(yr_test1, yr_predict_pca))"
   ]
  },
  {
   "cell_type": "markdown",
   "id": "15c5dd31",
   "metadata": {},
   "source": [
    "**With PCA, we couldn't see any better results, hence let's finalise the model which was created by RF Classifier, and save the model so that we can use it in a later stage :**"
   ]
  },
  {
   "cell_type": "code",
   "execution_count": null,
   "id": "caf9b72b",
   "metadata": {},
   "outputs": [],
   "source": []
  },
  {
   "cell_type": "markdown",
   "id": "ee1dc981",
   "metadata": {},
   "source": [
    "## Pickling the model"
   ]
  },
  {
   "cell_type": "code",
   "execution_count": null,
   "id": "4607f4c3",
   "metadata": {},
   "outputs": [],
   "source": [
    "import pickle"
   ]
  },
  {
   "cell_type": "code",
   "execution_count": null,
   "id": "a0b1732c",
   "metadata": {},
   "outputs": [],
   "source": [
    "filename = 'model.sav'"
   ]
  },
  {
   "cell_type": "code",
   "execution_count": null,
   "id": "6dce38f7",
   "metadata": {},
   "outputs": [],
   "source": [
    "pickle.dump(model_rf_smote, open(filename, 'wb'))"
   ]
  },
  {
   "cell_type": "code",
   "execution_count": null,
   "id": "6b8aa15f",
   "metadata": {},
   "outputs": [],
   "source": [
    "load_model = pickle.load(open(filename, 'rb'))"
   ]
  },
  {
   "cell_type": "code",
   "execution_count": null,
   "id": "e1173b39",
   "metadata": {},
   "outputs": [],
   "source": [
    "model_score_r1 = load_model.score(Xr_test1, yr_test1)"
   ]
  },
  {
   "cell_type": "code",
   "execution_count": null,
   "id": "6b55c080",
   "metadata": {},
   "outputs": [],
   "source": [
    "model_score_r1"
   ]
  },
  {
   "cell_type": "markdown",
   "id": "1279c980",
   "metadata": {},
   "source": [
    "**Our final model i.e. RF Classifier with SMOTEENN, is now ready and dumped in model.sav, which we will use and prepare API's so that we can access our model from UI.**"
   ]
  },
  {
   "cell_type": "code",
   "execution_count": null,
   "id": "b9444800",
   "metadata": {},
   "outputs": [],
   "source": []
  }
 ],
 "metadata": {
  "kernelspec": {
   "display_name": "Python 3 (ipykernel)",
   "language": "python",
   "name": "python3"
  },
  "language_info": {
   "codemirror_mode": {
    "name": "ipython",
    "version": 3
   },
   "file_extension": ".py",
   "mimetype": "text/x-python",
   "name": "python",
   "nbconvert_exporter": "python",
   "pygments_lexer": "ipython3",
   "version": "3.11.5"
  }
 },
 "nbformat": 4,
 "nbformat_minor": 5
}
